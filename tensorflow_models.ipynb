{
 "cells": [
  {
   "cell_type": "code",
   "execution_count": 2,
   "id": "dc954bdb",
   "metadata": {},
   "outputs": [],
   "source": [
    "import pandas as pd\n",
    "from sklearn.model_selection import train_test_split\n",
    "\n",
    "from tensorflow.keras.layers import Input, Embedding, Flatten, Dot, Dense\n",
    "from tensorflow.keras.models import Model\n",
    "import matplotlib.pyplot as plt"
   ]
  },
  {
   "cell_type": "code",
   "execution_count": 3,
   "id": "468a7f79",
   "metadata": {},
   "outputs": [],
   "source": [
    "ratings_raw = pd.read_csv('goodreads_interactions.csv')"
   ]
  },
  {
   "cell_type": "code",
   "execution_count": 4,
   "id": "b74f774d",
   "metadata": {},
   "outputs": [
    {
     "data": {
      "text/html": [
       "<div>\n",
       "<style scoped>\n",
       "    .dataframe tbody tr th:only-of-type {\n",
       "        vertical-align: middle;\n",
       "    }\n",
       "\n",
       "    .dataframe tbody tr th {\n",
       "        vertical-align: top;\n",
       "    }\n",
       "\n",
       "    .dataframe thead th {\n",
       "        text-align: right;\n",
       "    }\n",
       "</style>\n",
       "<table border=\"1\" class=\"dataframe\">\n",
       "  <thead>\n",
       "    <tr style=\"text-align: right;\">\n",
       "      <th></th>\n",
       "      <th>user_id</th>\n",
       "      <th>book_id</th>\n",
       "      <th>is_read</th>\n",
       "      <th>rating</th>\n",
       "      <th>is_reviewed</th>\n",
       "    </tr>\n",
       "  </thead>\n",
       "  <tbody>\n",
       "    <tr>\n",
       "      <th>0</th>\n",
       "      <td>0</td>\n",
       "      <td>948</td>\n",
       "      <td>1</td>\n",
       "      <td>5</td>\n",
       "      <td>0</td>\n",
       "    </tr>\n",
       "    <tr>\n",
       "      <th>1</th>\n",
       "      <td>0</td>\n",
       "      <td>947</td>\n",
       "      <td>1</td>\n",
       "      <td>5</td>\n",
       "      <td>1</td>\n",
       "    </tr>\n",
       "    <tr>\n",
       "      <th>2</th>\n",
       "      <td>0</td>\n",
       "      <td>946</td>\n",
       "      <td>1</td>\n",
       "      <td>5</td>\n",
       "      <td>0</td>\n",
       "    </tr>\n",
       "    <tr>\n",
       "      <th>3</th>\n",
       "      <td>0</td>\n",
       "      <td>945</td>\n",
       "      <td>1</td>\n",
       "      <td>5</td>\n",
       "      <td>0</td>\n",
       "    </tr>\n",
       "    <tr>\n",
       "      <th>4</th>\n",
       "      <td>0</td>\n",
       "      <td>944</td>\n",
       "      <td>1</td>\n",
       "      <td>5</td>\n",
       "      <td>0</td>\n",
       "    </tr>\n",
       "  </tbody>\n",
       "</table>\n",
       "</div>"
      ],
      "text/plain": [
       "   user_id  book_id  is_read  rating  is_reviewed\n",
       "0        0      948        1       5            0\n",
       "1        0      947        1       5            1\n",
       "2        0      946        1       5            0\n",
       "3        0      945        1       5            0\n",
       "4        0      944        1       5            0"
      ]
     },
     "execution_count": 4,
     "metadata": {},
     "output_type": "execute_result"
    }
   ],
   "source": [
    "ratings_raw.head()"
   ]
  },
  {
   "cell_type": "code",
   "execution_count": 5,
   "id": "9af1eb73",
   "metadata": {},
   "outputs": [
    {
     "data": {
      "text/html": [
       "<div>\n",
       "<style scoped>\n",
       "    .dataframe tbody tr th:only-of-type {\n",
       "        vertical-align: middle;\n",
       "    }\n",
       "\n",
       "    .dataframe tbody tr th {\n",
       "        vertical-align: top;\n",
       "    }\n",
       "\n",
       "    .dataframe thead th {\n",
       "        text-align: right;\n",
       "    }\n",
       "</style>\n",
       "<table border=\"1\" class=\"dataframe\">\n",
       "  <thead>\n",
       "    <tr style=\"text-align: right;\">\n",
       "      <th></th>\n",
       "      <th>count</th>\n",
       "    </tr>\n",
       "  </thead>\n",
       "  <tbody>\n",
       "    <tr>\n",
       "      <th># shelve</th>\n",
       "      <td>228648342.0</td>\n",
       "    </tr>\n",
       "    <tr>\n",
       "      <th># read</th>\n",
       "      <td>112131203.0</td>\n",
       "    </tr>\n",
       "    <tr>\n",
       "      <th># rate</th>\n",
       "      <td>104551549.0</td>\n",
       "    </tr>\n",
       "    <tr>\n",
       "      <th># review</th>\n",
       "      <td>16219149.0</td>\n",
       "    </tr>\n",
       "  </tbody>\n",
       "</table>\n",
       "</div>"
      ],
      "text/plain": [
       "                count\n",
       "# shelve  228648342.0\n",
       "# read    112131203.0\n",
       "# rate    104551549.0\n",
       "# review   16219149.0"
      ]
     },
     "metadata": {},
     "output_type": "display_data"
    }
   ],
   "source": [
    "df_stats = pd.DataFrame([ratings_raw.shape[0],\n",
    "                         ratings_raw['is_read'].sum(),\n",
    "                         (ratings_raw['rating']>0).sum(),\n",
    "                         ratings_raw['is_reviewed'].sum()], dtype = float, \n",
    "                        columns = ['count'],\n",
    "                        index = ['# shelve', '# read', '# rate', '# review'])\n",
    "display(df_stats)"
   ]
  },
  {
   "cell_type": "markdown",
   "id": "564995bb",
   "metadata": {},
   "source": [
    "- Shelve - Total number of records in the dataset\n",
    "- Read - Number of records where user read the books\n",
    "- Rated - Number of records where users provided rating scores for the books\n",
    "- Reviewed - Number of records where the book review texts are not empty"
   ]
  },
  {
   "cell_type": "code",
   "execution_count": 6,
   "id": "253e478d",
   "metadata": {},
   "outputs": [
    {
     "data": {
      "text/plain": [
       "user_id        0\n",
       "book_id        0\n",
       "is_read        0\n",
       "rating         0\n",
       "is_reviewed    0\n",
       "dtype: int64"
      ]
     },
     "execution_count": 6,
     "metadata": {},
     "output_type": "execute_result"
    }
   ],
   "source": [
    "ratings_raw.isnull().sum()"
   ]
  },
  {
   "cell_type": "code",
   "execution_count": 7,
   "id": "92c23fc1",
   "metadata": {},
   "outputs": [],
   "source": [
    "import seaborn as sns"
   ]
  },
  {
   "cell_type": "code",
   "execution_count": 8,
   "id": "4db83838",
   "metadata": {},
   "outputs": [
    {
     "name": "stderr",
     "output_type": "stream",
     "text": [
      "C:\\ProgramData\\Anaconda3\\lib\\site-packages\\seaborn\\categorical.py:3717: UserWarning: The `factorplot` function has been renamed to `catplot`. The original name will be removed in a future release. Please update your code. Note that the default `kind` in `factorplot` (`'point'`) has changed `'strip'` in `catplot`.\n",
      "  warnings.warn(msg)\n",
      "C:\\ProgramData\\Anaconda3\\lib\\site-packages\\seaborn\\_decorators.py:36: FutureWarning: Pass the following variable as a keyword arg: x. From version 0.12, the only valid positional argument will be `data`, and passing other arguments without an explicit keyword will result in an error or misinterpretation.\n",
      "  warnings.warn(\n"
     ]
    },
    {
     "data": {
      "image/png": "[encoded data removed]",
      "text/plain": [
       "<Figure size 720x360 with 1 Axes>"
      ]
     },
     "metadata": {},
     "output_type": "display_data"
    }
   ],
   "source": [
    "with sns.axes_style('white'):\n",
    "    g = sns.factorplot(\"rating\", data=ratings_raw, aspect=2.0,kind='count')\n",
    "    g.set_ylabels(\"Total number of ratings\")"
   ]
  },
  {
   "cell_type": "code",
   "execution_count": 9,
   "id": "c7fc5902",
   "metadata": {},
   "outputs": [],
   "source": [
    "ratings_whole = ratings_raw[ratings_raw['rating']!=0]"
   ]
  },
  {
   "cell_type": "code",
   "execution_count": 10,
   "id": "d8246752",
   "metadata": {},
   "outputs": [
    {
     "name": "stderr",
     "output_type": "stream",
     "text": [
      "C:\\Users\\GreyMan97\\AppData\\Local\\Temp\\ipykernel_27360\\701588699.py:1: SettingWithCopyWarning: \n",
      "A value is trying to be set on a copy of a slice from a DataFrame\n",
      "\n",
      "See the caveats in the documentation: https://pandas.pydata.org/pandas-docs/stable/user_guide/indexing.html#returning-a-view-versus-a-copy\n",
      "  ratings_whole.drop([\"is_read\", \"is_reviewed\"], inplace=True, axis=1)\n"
     ]
    }
   ],
   "source": [
    "ratings_whole.drop([\"is_read\", \"is_reviewed\"], inplace=True, axis=1)"
   ]
  },
  {
   "cell_type": "code",
   "execution_count": 11,
   "id": "d2c7940f",
   "metadata": {},
   "outputs": [
    {
     "name": "stdout",
     "output_type": "stream",
     "text": [
      "<class 'pandas.core.frame.DataFrame'>\n",
      "Int64Index: 104551549 entries, 0 to 228648341\n",
      "Data columns (total 3 columns):\n",
      " #   Column   Dtype\n",
      "---  ------   -----\n",
      " 0   user_id  int64\n",
      " 1   book_id  int64\n",
      " 2   rating   int64\n",
      "dtypes: int64(3)\n",
      "memory usage: 3.1 GB\n"
     ]
    }
   ],
   "source": [
    "ratings_whole.info()"
   ]
  },
  {
   "cell_type": "code",
   "execution_count": 12,
   "id": "cb3372d9",
   "metadata": {},
   "outputs": [
    {
     "data": {
      "text/plain": [
       "(104551549, 3)"
      ]
     },
     "execution_count": 12,
     "metadata": {},
     "output_type": "execute_result"
    }
   ],
   "source": [
    "ratings_whole.shape"
   ]
  },
  {
   "cell_type": "code",
   "execution_count": 13,
   "id": "e6866e51",
   "metadata": {},
   "outputs": [],
   "source": [
    "ratings_1000th = ratings_whole.iloc[[x for x in range(ratings_whole.shape[0]) if x%999==0]]"
   ]
  },
  {
   "cell_type": "code",
   "execution_count": 14,
   "id": "2f937cf9",
   "metadata": {},
   "outputs": [],
   "source": [
    "train, test = train_test_split(ratings_1000th, test_size=0.2, random_state=42)"
   ]
  },
  {
   "cell_type": "code",
   "execution_count": 15,
   "id": "4e3bd192",
   "metadata": {},
   "outputs": [
    {
     "data": {
      "text/plain": [
       "(20932, 3)"
      ]
     },
     "execution_count": 15,
     "metadata": {},
     "output_type": "execute_result"
    }
   ],
   "source": [
    "test.shape"
   ]
  },
  {
   "cell_type": "code",
   "execution_count": 16,
   "id": "d828a85a",
   "metadata": {},
   "outputs": [
    {
     "data": {
      "text/plain": [
       "876135"
      ]
     },
     "execution_count": 16,
     "metadata": {},
     "output_type": "execute_result"
    }
   ],
   "source": [
    "n_users = max(ratings_1000th.user_id.unique())\n",
    "n_users"
   ]
  },
  {
   "cell_type": "code",
   "execution_count": 17,
   "id": "0caf9700",
   "metadata": {},
   "outputs": [
    {
     "data": {
      "text/plain": [
       "2359861"
      ]
     },
     "execution_count": 17,
     "metadata": {},
     "output_type": "execute_result"
    }
   ],
   "source": [
    "n_books = max(ratings_1000th.book_id.unique())\n",
    "n_books"
   ]
  },
  {
   "cell_type": "markdown",
   "id": "c13d94e4",
   "metadata": {},
   "source": [
    "## Dot product model"
   ]
  },
  {
   "cell_type": "code",
   "execution_count": 18,
   "id": "c4e93cf1",
   "metadata": {},
   "outputs": [],
   "source": [
    "book_input = Input(shape=[1], name=\"Book-Input\")\n",
    "book_embedding = Embedding(n_books+1, 5, name=\"Book-Embedding\")(book_input)\n",
    "book_vec = Flatten(name=\"Flatten-Books\")(book_embedding)\n",
    "\n",
    "# creating user embedding path\n",
    "user_input = Input(shape=[1], name=\"User-Input\")\n",
    "user_embedding = Embedding(n_users+1, 5, name=\"User-Embedding\")(user_input)\n",
    "user_vec = Flatten(name=\"Flatten-Users\")(user_embedding)\n",
    "\n",
    "# performing dot product and creating model\n",
    "prod = Dot(name=\"Dot-Product\", axes=1)([book_vec, user_vec])\n",
    "model = Model([user_input, book_input], prod)\n",
    "model.compile('adam', 'mean_squared_error')"
   ]
  },
  {
   "cell_type": "code",
   "execution_count": 19,
   "id": "1eac5e50",
   "metadata": {},
   "outputs": [
    {
     "name": "stdout",
     "output_type": "stream",
     "text": [
      "Epoch 1/9\n",
      "2617/2617 [==============================] - 296s 113ms/step - loss: 16.5183\n",
      "Epoch 2/9\n",
      "2617/2617 [==============================] - 303s 116ms/step - loss: 16.4440\n",
      "Epoch 3/9\n",
      "2617/2617 [==============================] - 310s 119ms/step - loss: 16.1834\n",
      "Epoch 4/9\n",
      "2617/2617 [==============================] - 321s 123ms/step - loss: 15.6691\n",
      "Epoch 5/9\n",
      "2617/2617 [==============================] - 299s 114ms/step - loss: 14.9285\n",
      "Epoch 6/9\n",
      "2617/2617 [==============================] - 319s 122ms/step - loss: 14.0176\n",
      "Epoch 7/9\n",
      "2617/2617 [==============================] - 329s 126ms/step - loss: 13.0018\n",
      "Epoch 8/9\n",
      "2617/2617 [==============================] - 311s 119ms/step - loss: 11.9509\n",
      "Epoch 9/9\n",
      "2617/2617 [==============================] - 293s 112ms/step - loss: 10.9222\n"
     ]
    }
   ],
   "source": [
    "history = model.fit([train.user_id, train.book_id], train.rating, epochs=9, verbose=1)\n",
    "model.save('regression_model.h5')"
   ]
  },
  {
   "cell_type": "code",
   "execution_count": 20,
   "id": "f0b80dad",
   "metadata": {},
   "outputs": [
    {
     "data": {
      "text/plain": [
       "Text(0, 0.5, 'Training Error')"
      ]
     },
     "execution_count": 20,
     "metadata": {},
     "output_type": "execute_result"
    },
    {
     "data": {
      "image/png": "[encoded data removed]",
      "text/plain": [
       "<Figure size 432x288 with 1 Axes>"
      ]
     },
     "metadata": {
      "needs_background": "light"
     },
     "output_type": "display_data"
    }
   ],
   "source": [
    "plt.plot(history.history['loss'])\n",
    "plt.xlabel(\"Epochs\")\n",
    "plt.ylabel(\"Training Error\")"
   ]
  },
  {
   "cell_type": "code",
   "execution_count": 21,
   "id": "a63f7c32",
   "metadata": {},
   "outputs": [
    {
     "name": "stdout",
     "output_type": "stream",
     "text": [
      "655/655 [==============================] - 0s 484us/step - loss: 16.4390\n"
     ]
    },
    {
     "data": {
      "text/plain": [
       "16.438961029052734"
      ]
     },
     "execution_count": 21,
     "metadata": {},
     "output_type": "execute_result"
    }
   ],
   "source": [
    "model.evaluate([test.user_id, test.book_id], test.rating)"
   ]
  },
  {
   "cell_type": "code",
   "execution_count": 22,
   "id": "4cad39b3",
   "metadata": {},
   "outputs": [
    {
     "name": "stdout",
     "output_type": "stream",
     "text": [
      "[-0.00292608] 2\n",
      "[-0.0012863] 5\n",
      "[-0.00142956] 4\n",
      "[0.02587566] 2\n",
      "[0.00163685] 3\n",
      "[-0.00188358] 2\n",
      "[0.00117171] 2\n",
      "[0.07591727] 5\n",
      "[0.00126497] 3\n",
      "[-0.00068531] 5\n"
     ]
    },
    {
     "data": {
      "text/plain": [
       "[None, None, None, None, None, None, None, None, None, None]"
      ]
     },
     "execution_count": 22,
     "metadata": {},
     "output_type": "execute_result"
    }
   ],
   "source": [
    "predictions = model.predict([test.user_id.head(10), test.book_id.head(10)])\n",
    "\n",
    "[print(predictions[i], test.rating.iloc[i]) for i in range(0,10)]"
   ]
  },
  {
   "cell_type": "markdown",
   "id": "03182c90",
   "metadata": {},
   "source": [
    "## Neural Network "
   ]
  },
  {
   "cell_type": "code",
   "execution_count": 23,
   "id": "79491675",
   "metadata": {},
   "outputs": [],
   "source": [
    "from tensorflow.keras.layers import Concatenate\n",
    "\n",
    "# creating book embedding path\n",
    "book_input = Input(shape=[1], name=\"Book-Input\")\n",
    "book_embedding = Embedding(n_books+1, 5, name=\"Book-Embedding\")(book_input)\n",
    "book_vec = Flatten(name=\"Flatten-Books\")(book_embedding)\n",
    "\n",
    "# creating user embedding path\n",
    "user_input = Input(shape=[1], name=\"User-Input\")\n",
    "user_embedding = Embedding(n_users+1, 5, name=\"User-Embedding\")(user_input)\n",
    "user_vec = Flatten(name=\"Flatten-Users\")(user_embedding)\n",
    "\n",
    "# concatenate features\n",
    "conc = Concatenate()([book_vec, user_vec])\n",
    "\n",
    "# add fully-connected-layers\n",
    "fc1 = Dense(128, activation='relu')(conc)\n",
    "fc2 = Dense(32, activation='relu')(fc1)\n",
    "out = Dense(1)(fc2)\n",
    "\n",
    "# Create model and compile it\n",
    "model2 = Model([user_input, book_input], out)\n",
    "model2.compile('adam', 'mean_squared_error')"
   ]
  },
  {
   "cell_type": "code",
   "execution_count": 24,
   "id": "d2baf2b4",
   "metadata": {},
   "outputs": [
    {
     "name": "stdout",
     "output_type": "stream",
     "text": [
      "Epoch 1/9\n",
      "2617/2617 [==============================] - 337s 129ms/step - loss: 1.1825\n",
      "Epoch 2/9\n",
      "2617/2617 [==============================] - 312s 119ms/step - loss: 0.7228\n",
      "Epoch 3/9\n",
      "2617/2617 [==============================] - 296s 113ms/step - loss: 0.3259\n",
      "Epoch 4/9\n",
      "2617/2617 [==============================] - 307s 117ms/step - loss: 0.1393\n",
      "Epoch 5/9\n",
      "2617/2617 [==============================] - 300s 115ms/step - loss: 0.0813\n",
      "Epoch 6/9\n",
      "2617/2617 [==============================] - 295s 113ms/step - loss: 0.0573\n",
      "Epoch 7/9\n",
      "2617/2617 [==============================] - 297s 114ms/step - loss: 0.0422\n",
      "Epoch 8/9\n",
      "2617/2617 [==============================] - 320s 122ms/step - loss: 0.0359\n",
      "Epoch 9/9\n",
      "2617/2617 [==============================] - 336s 128ms/step - loss: 0.0315\n"
     ]
    }
   ],
   "source": [
    "history2 = model2.fit([train.user_id, train.book_id], train.rating, epochs=9, verbose=1)\n",
    "model2.save('regression_model2.h5')"
   ]
  },
  {
   "cell_type": "code",
   "execution_count": 25,
   "id": "238c5987",
   "metadata": {},
   "outputs": [
    {
     "data": {
      "text/plain": [
       "Text(0, 0.5, 'Training Error')"
      ]
     },
     "execution_count": 25,
     "metadata": {},
     "output_type": "execute_result"
    },
    {
     "data": {
      "image/png": "[encoded data removed]",
      "text/plain": [
       "<Figure size 432x288 with 1 Axes>"
      ]
     },
     "metadata": {
      "needs_background": "light"
     },
     "output_type": "display_data"
    }
   ],
   "source": [
    "plt.plot(history2.history['loss'])\n",
    "plt.xlabel(\"Epochs\")\n",
    "plt.ylabel(\"Training Error\")"
   ]
  },
  {
   "cell_type": "code",
   "execution_count": 26,
   "id": "c4de81d2",
   "metadata": {},
   "outputs": [
    {
     "name": "stdout",
     "output_type": "stream",
     "text": [
      "655/655 [==============================] - 0s 535us/step - loss: 1.0869\n"
     ]
    },
    {
     "data": {
      "text/plain": [
       "1.086936354637146"
      ]
     },
     "execution_count": 26,
     "metadata": {},
     "output_type": "execute_result"
    }
   ],
   "source": [
    "model2.evaluate([test.user_id, test.book_id], test.rating)"
   ]
  },
  {
   "cell_type": "code",
   "execution_count": 27,
   "id": "9eef2984",
   "metadata": {},
   "outputs": [],
   "source": [
    "from tensorflow.keras import backend as K\n",
    "\n",
    "def root_mean_squared_error(y_true, y_pred):\n",
    "        return K.sqrt(K.mean(K.square(float(y_pred) - float(y_true)))) \n",
    "\n",
    "model3 = Model([user_input, book_input], out)\n",
    "model3.compile(optimizer = \"rmsprop\", loss = root_mean_squared_error, metrics =[\"accuracy\"])"
   ]
  },
  {
   "cell_type": "code",
   "execution_count": 28,
   "id": "672d105e",
   "metadata": {},
   "outputs": [
    {
     "name": "stdout",
     "output_type": "stream",
     "text": [
      "Epoch 1/5\n",
      "2617/2617 [==============================] - 107s 41ms/step - loss: 0.1708 - accuracy: 0.0198\n",
      "Epoch 2/5\n",
      "2617/2617 [==============================] - 112s 43ms/step - loss: 0.1391 - accuracy: 0.0198\n",
      "Epoch 3/5\n",
      "2617/2617 [==============================] - 97s 37ms/step - loss: 0.1166 - accuracy: 0.0198\n",
      "Epoch 4/5\n",
      "2617/2617 [==============================] - 100s 38ms/step - loss: 0.0996 - accuracy: 0.0198\n",
      "Epoch 5/5\n",
      "2617/2617 [==============================] - 127s 48ms/step - loss: 0.0860 - accuracy: 0.0198\n"
     ]
    }
   ],
   "source": [
    "history3 = model3.fit([train.user_id, train.book_id], train.rating, epochs=5, verbose=1)\n",
    "model3.save('regression_model3.h5')"
   ]
  },
  {
   "cell_type": "code",
   "execution_count": 29,
   "id": "7b1c18af",
   "metadata": {},
   "outputs": [
    {
     "data": {
      "text/plain": [
       "Text(0, 0.5, 'Training Error')"
      ]
     },
     "execution_count": 29,
     "metadata": {},
     "output_type": "execute_result"
    },
    {
     "data": {
      "image/png": "[encoded data removed]",
      "text/plain": [
       "<Figure size 432x288 with 1 Axes>"
      ]
     },
     "metadata": {
      "needs_background": "light"
     },
     "output_type": "display_data"
    }
   ],
   "source": [
    "plt.plot(history3.history['loss'])\n",
    "plt.xlabel(\"Epochs\")\n",
    "plt.ylabel(\"Training Error\")"
   ]
  },
  {
   "cell_type": "code",
   "execution_count": 30,
   "id": "3b794890",
   "metadata": {},
   "outputs": [
    {
     "name": "stdout",
     "output_type": "stream",
     "text": [
      "655/655 [==============================] - 1s 2ms/step - loss: 1.0337 - accuracy: 0.0202\n"
     ]
    },
    {
     "data": {
      "text/plain": [
       "[1.0337337255477905, 0.020208293572068214]"
      ]
     },
     "execution_count": 30,
     "metadata": {},
     "output_type": "execute_result"
    }
   ],
   "source": [
    "model3.evaluate([test.user_id, test.book_id], test.rating)"
   ]
  }
 ],
 "metadata": {
  "kernelspec": {
   "display_name": "Python 3 (ipykernel)",
   "language": "python",
   "name": "python3"
  },
  "language_info": {
   "codemirror_mode": {
    "name": "ipython",
    "version": 3
   },
   "file_extension": ".py",
   "mimetype": "text/x-python",
   "name": "python",
   "nbconvert_exporter": "python",
   "pygments_lexer": "ipython3",
   "version": "3.9.7"
  }
 },
 "nbformat": 4,
 "nbformat_minor": 5
}
