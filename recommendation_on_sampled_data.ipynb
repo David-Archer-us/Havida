{
 "cells": [
  {
   "cell_type": "code",
   "execution_count": null,
   "id": "27e2b177",
   "metadata": {},
   "outputs": [],
   "source": [
    "# Due to the large size of the dataset\n",
    "# This implementation utilized the HPC \n",
    "# sampled 1/1000 of goodreads_interactions.csv data\n",
    "# used all goodreads_books.json, user_id_map.csv, and book_id_map.csv data\n"
   ]
  },
  {
   "cell_type": "code",
   "execution_count": 1,
   "id": "46f561a8",
   "metadata": {},
   "outputs": [
    {
     "data": {
      "text/plain": [
       "(228648342, 3)"
      ]
     },
     "execution_count": 1,
     "metadata": {},
     "output_type": "execute_result"
    }
   ],
   "source": [
    "# read the interactions dataset\n",
    "import pandas as pd\n",
    "ratings_whole = pd.read_csv('/data/cmpe256-sp22/013900770/project/goodreads_interactions.csv')\n",
    "ratings_whole.drop([\"is_read\", \"is_reviewed\"], inplace=True, axis=1)\n",
    "ratings_whole.shape\n"
   ]
  },
  {
   "cell_type": "code",
   "execution_count": 2,
   "id": "637bf4ea",
   "metadata": {},
   "outputs": [
    {
     "name": "stdout",
     "output_type": "stream",
     "text": [
      "<class 'pandas.core.frame.DataFrame'>\n",
      "RangeIndex: 228648342 entries, 0 to 228648341\n",
      "Data columns (total 3 columns):\n",
      " #   Column   Dtype\n",
      "---  ------   -----\n",
      " 0   user_id  int64\n",
      " 1   book_id  int64\n",
      " 2   rating   int64\n",
      "dtypes: int64(3)\n",
      "memory usage: 5.1 GB\n"
     ]
    }
   ],
   "source": [
    "# check the dataset\n",
    "ratings_whole.info()"
   ]
  },
  {
   "cell_type": "code",
   "execution_count": 3,
   "id": "a59bdf8e",
   "metadata": {},
   "outputs": [
    {
     "data": {
      "text/plain": [
       "user_id    0\n",
       "book_id    0\n",
       "rating     0\n",
       "dtype: int64"
      ]
     },
     "execution_count": 3,
     "metadata": {},
     "output_type": "execute_result"
    }
   ],
   "source": [
    "ratings_whole.isnull().sum()"
   ]
  },
  {
   "cell_type": "code",
   "execution_count": 4,
   "id": "83c1b99e",
   "metadata": {},
   "outputs": [
    {
     "data": {
      "text/html": [
       "<div>\n",
       "<style scoped>\n",
       "    .dataframe tbody tr th:only-of-type {\n",
       "        vertical-align: middle;\n",
       "    }\n",
       "\n",
       "    .dataframe tbody tr th {\n",
       "        vertical-align: top;\n",
       "    }\n",
       "\n",
       "    .dataframe thead th {\n",
       "        text-align: right;\n",
       "    }\n",
       "</style>\n",
       "<table border=\"1\" class=\"dataframe\">\n",
       "  <thead>\n",
       "    <tr style=\"text-align: right;\">\n",
       "      <th></th>\n",
       "      <th>user_id</th>\n",
       "      <th>book_id</th>\n",
       "      <th>rating</th>\n",
       "    </tr>\n",
       "  </thead>\n",
       "  <tbody>\n",
       "    <tr>\n",
       "      <th>0</th>\n",
       "      <td>0</td>\n",
       "      <td>948</td>\n",
       "      <td>5</td>\n",
       "    </tr>\n",
       "    <tr>\n",
       "      <th>1</th>\n",
       "      <td>0</td>\n",
       "      <td>947</td>\n",
       "      <td>5</td>\n",
       "    </tr>\n",
       "    <tr>\n",
       "      <th>2</th>\n",
       "      <td>0</td>\n",
       "      <td>946</td>\n",
       "      <td>5</td>\n",
       "    </tr>\n",
       "  </tbody>\n",
       "</table>\n",
       "</div>"
      ],
      "text/plain": [
       "   user_id  book_id  rating\n",
       "0        0      948       5\n",
       "1        0      947       5\n",
       "2        0      946       5"
      ]
     },
     "execution_count": 4,
     "metadata": {},
     "output_type": "execute_result"
    }
   ],
   "source": [
    "ratings_whole.head(3)"
   ]
  },
  {
   "cell_type": "code",
   "execution_count": 5,
   "id": "dc141d95",
   "metadata": {},
   "outputs": [
    {
     "data": {
      "text/plain": [
       "(876145, 2360650)"
      ]
     },
     "execution_count": 5,
     "metadata": {},
     "output_type": "execute_result"
    }
   ],
   "source": [
    "\n",
    "n_user_whole = ratings_whole.user_id.unique().shape[0]\n",
    "n_book_whole = ratings_whole.book_id.unique().shape[0]\n",
    "n_user_whole, n_book_whole"
   ]
  },
  {
   "cell_type": "code",
   "execution_count": 3,
   "id": "b1345d15",
   "metadata": {},
   "outputs": [],
   "source": [
    "# sample the datase 1/1000\n",
    "                                            \n",
    "ratings_1000th = ratings_whole.iloc[[x for x in range(ratings_whole.shape[0]) if x%999==0]]"
   ]
  },
  {
   "cell_type": "code",
   "execution_count": 7,
   "id": "5a9492c8",
   "metadata": {},
   "outputs": [
    {
     "name": "stdout",
     "output_type": "stream",
     "text": [
      "<class 'pandas.core.frame.DataFrame'>\n",
      "Int64Index: 228878 entries, 0 to 228648123\n",
      "Data columns (total 3 columns):\n",
      " #   Column   Non-Null Count   Dtype\n",
      "---  ------   --------------   -----\n",
      " 0   user_id  228878 non-null  int64\n",
      " 1   book_id  228878 non-null  int64\n",
      " 2   rating   228878 non-null  int64\n",
      "dtypes: int64(3)\n",
      "memory usage: 7.0 MB\n"
     ]
    }
   ],
   "source": [
    "ratings_1000th.info()"
   ]
  },
  {
   "cell_type": "code",
   "execution_count": 8,
   "id": "251fcf5c",
   "metadata": {},
   "outputs": [
    {
     "data": {
      "text/html": [
       "<div>\n",
       "<style scoped>\n",
       "    .dataframe tbody tr th:only-of-type {\n",
       "        vertical-align: middle;\n",
       "    }\n",
       "\n",
       "    .dataframe tbody tr th {\n",
       "        vertical-align: top;\n",
       "    }\n",
       "\n",
       "    .dataframe thead th {\n",
       "        text-align: right;\n",
       "    }\n",
       "</style>\n",
       "<table border=\"1\" class=\"dataframe\">\n",
       "  <thead>\n",
       "    <tr style=\"text-align: right;\">\n",
       "      <th></th>\n",
       "      <th>user_id</th>\n",
       "      <th>book_id</th>\n",
       "      <th>rating</th>\n",
       "    </tr>\n",
       "  </thead>\n",
       "  <tbody>\n",
       "    <tr>\n",
       "      <th>0</th>\n",
       "      <td>0</td>\n",
       "      <td>948</td>\n",
       "      <td>5</td>\n",
       "    </tr>\n",
       "    <tr>\n",
       "      <th>999</th>\n",
       "      <td>1</td>\n",
       "      <td>704</td>\n",
       "      <td>5</td>\n",
       "    </tr>\n",
       "    <tr>\n",
       "      <th>1998</th>\n",
       "      <td>5</td>\n",
       "      <td>6869</td>\n",
       "      <td>0</td>\n",
       "    </tr>\n",
       "  </tbody>\n",
       "</table>\n",
       "</div>"
      ],
      "text/plain": [
       "      user_id  book_id  rating\n",
       "0           0      948       5\n",
       "999         1      704       5\n",
       "1998        5     6869       0"
      ]
     },
     "execution_count": 8,
     "metadata": {},
     "output_type": "execute_result"
    }
   ],
   "source": [
    "ratings_1000th.head(3)"
   ]
  },
  {
   "cell_type": "code",
   "execution_count": 9,
   "id": "394b3d1a",
   "metadata": {},
   "outputs": [
    {
     "data": {
      "text/plain": [
       "(181862, 114043)"
      ]
     },
     "execution_count": 9,
     "metadata": {},
     "output_type": "execute_result"
    }
   ],
   "source": [
    "n_user_1000th = ratings_1000th.user_id.unique().shape[0]\n",
    "n_book_1000th = ratings_1000th.book_id.unique().shape[0]\n",
    "n_user_1000th, n_book_1000th"
   ]
  },
  {
   "cell_type": "code",
   "execution_count": 4,
   "id": "01d1c0c2",
   "metadata": {},
   "outputs": [],
   "source": [
    "#using the surprise library\n",
    "\n",
    "from surprise import Reader, Dataset, accuracy\n",
    "from surprise import SVD, SVDpp, SlopeOne, NormalPredictor, NMF\n",
    "from surprise.model_selection import cross_validate, GridSearchCV, KFold\n"
   ]
  },
  {
   "cell_type": "code",
   "execution_count": 5,
   "id": "9cb94517",
   "metadata": {},
   "outputs": [],
   "source": [
    "reader = Reader(rating_scale=(1.0, 5.0))\n",
    "data_1000th = Dataset.load_from_df(ratings_1000th[['user_id', 'book_id', 'rating']], reader)\n"
   ]
  },
  {
   "cell_type": "code",
   "execution_count": 18,
   "id": "c8c8fcd3",
   "metadata": {},
   "outputs": [
    {
     "name": "stdout",
     "output_type": "stream",
     "text": [
      "Evaluating RMSE of algorithm SVD on 3 split(s).\n",
      "\n",
      "                  Fold 1  Fold 2  Fold 3  Mean    Std     \n",
      "RMSE (testset)    1.9909  1.9927  1.9887  1.9908  0.0016  \n",
      "Fit time          9.78    9.55    9.86    9.73    0.13    \n",
      "Test time         0.56    0.56    0.57    0.56    0.00    \n",
      "Evaluating RMSE of algorithm SVDpp on 3 split(s).\n",
      "\n",
      "                  Fold 1  Fold 2  Fold 3  Mean    Std     \n",
      "RMSE (testset)    1.9949  1.9947  1.9907  1.9934  0.0019  \n",
      "Fit time          24.19   19.15   19.82   21.05   2.23    \n",
      "Test time         0.81    0.70    0.81    0.77    0.05    \n",
      "Evaluating RMSE of algorithm SlopeOne on 3 split(s).\n",
      "\n",
      "                  Fold 1  Fold 2  Fold 3  Mean    Std     \n",
      "RMSE (testset)    2.0886  2.0856  2.0846  2.0863  0.0017  \n",
      "Fit time          207.41  212.57  207.62  209.20  2.38    \n",
      "Test time         0.69    0.76    0.60    0.68    0.07    \n",
      "Evaluating RMSE of algorithm NormalPredictor on 3 split(s).\n",
      "\n",
      "                  Fold 1  Fold 2  Fold 3  Mean    Std     \n",
      "RMSE (testset)    2.5012  2.5020  2.4967  2.5000  0.0023  \n",
      "Fit time          0.22    0.22    0.21    0.21    0.00    \n",
      "Test time         0.83    0.86    0.81    0.83    0.02    \n"
     ]
    },
    {
     "data": {
      "text/html": [
       "<div>\n",
       "<style scoped>\n",
       "    .dataframe tbody tr th:only-of-type {\n",
       "        vertical-align: middle;\n",
       "    }\n",
       "\n",
       "    .dataframe tbody tr th {\n",
       "        vertical-align: top;\n",
       "    }\n",
       "\n",
       "    .dataframe thead th {\n",
       "        text-align: right;\n",
       "    }\n",
       "</style>\n",
       "<table border=\"1\" class=\"dataframe\">\n",
       "  <thead>\n",
       "    <tr style=\"text-align: right;\">\n",
       "      <th></th>\n",
       "      <th>test_rmse</th>\n",
       "      <th>fit_time</th>\n",
       "      <th>test_time</th>\n",
       "    </tr>\n",
       "    <tr>\n",
       "      <th>Algorithm</th>\n",
       "      <th></th>\n",
       "      <th></th>\n",
       "      <th></th>\n",
       "    </tr>\n",
       "  </thead>\n",
       "  <tbody>\n",
       "    <tr>\n",
       "      <th>SVD</th>\n",
       "      <td>1.990777</td>\n",
       "      <td>9.729697</td>\n",
       "      <td>0.563782</td>\n",
       "    </tr>\n",
       "    <tr>\n",
       "      <th>SVDpp</th>\n",
       "      <td>1.993441</td>\n",
       "      <td>21.052103</td>\n",
       "      <td>0.773935</td>\n",
       "    </tr>\n",
       "    <tr>\n",
       "      <th>SlopeOne</th>\n",
       "      <td>2.086279</td>\n",
       "      <td>209.200431</td>\n",
       "      <td>0.684142</td>\n",
       "    </tr>\n",
       "    <tr>\n",
       "      <th>NormalPredictor</th>\n",
       "      <td>2.499977</td>\n",
       "      <td>0.214864</td>\n",
       "      <td>0.831689</td>\n",
       "    </tr>\n",
       "  </tbody>\n",
       "</table>\n",
       "</div>"
      ],
      "text/plain": [
       "                 test_rmse    fit_time  test_time\n",
       "Algorithm                                        \n",
       "SVD               1.990777    9.729697   0.563782\n",
       "SVDpp             1.993441   21.052103   0.773935\n",
       "SlopeOne          2.086279  209.200431   0.684142\n",
       "NormalPredictor   2.499977    0.214864   0.831689"
      ]
     },
     "execution_count": 18,
     "metadata": {},
     "output_type": "execute_result"
    }
   ],
   "source": [
    "# find the best algorithms\n",
    "\n",
    "benchmark_1000th = []\n",
    "for algorithm in [SVD(), SVDpp(), SlopeOne(), NormalPredictor()]:\n",
    "    results = cross_validate(algorithm, data_1000th, measures=['RMSE'], cv=KFold(3, random_state=2, shuffle=True), verbose=True, n_jobs=-1)\n",
    "    tmp = pd.DataFrame.from_dict(results).mean(axis=0)\n",
    "    tmp['Algorithm'] = str(algorithm).split(' ')[0].split('.')[-1]\n",
    "    benchmark_1000th.append(tmp)\n",
    "    \n",
    "pd.DataFrame(benchmark_1000th).set_index('Algorithm').sort_values('test_rmse')\n"
   ]
  },
  {
   "cell_type": "code",
   "execution_count": 17,
   "id": "16bb67ce",
   "metadata": {},
   "outputs": [],
   "source": [
    "# find the best params for SVD \n",
    "\n",
    "param_grid = {'n_epochs': [20,25,30], 'n_factors': [10,15,20],\n",
    "             'lr_all': [0.007, 0.008, 0.009], 'reg_all': [0.06,0.07,0.08]}\n",
    "gs1 = GridSearchCV(SVD, param_grid, measures=['rmse'], cv=KFold(3, random_state=2, shuffle=True), n_jobs=-1)\n",
    "gs1.fit(data_1000th)\n"
   ]
  },
  {
   "cell_type": "code",
   "execution_count": 18,
   "id": "1b44a22d",
   "metadata": {},
   "outputs": [
    {
     "name": "stdout",
     "output_type": "stream",
     "text": [
      "1.9835282716973557\n",
      "{'n_epochs': 30, 'n_factors': 15, 'lr_all': 0.007, 'reg_all': 0.08}\n"
     ]
    }
   ],
   "source": [
    "print(gs1.best_score['rmse'])\n",
    "print(gs1.best_params['rmse'])"
   ]
  },
  {
   "cell_type": "code",
   "execution_count": 19,
   "id": "aa0729d5",
   "metadata": {},
   "outputs": [],
   "source": [
    "# tweak the params for SVD\n",
    "param_grid = {'n_epochs': [30, 35, 40], 'n_factors': [10, 15, 20],\n",
    "             'lr_all': [0.005,0.006,0.007], 'reg_all': [0.08,0.09,0.1]}\n",
    "gs1 = GridSearchCV(SVD, param_grid, measures=['rmse'], cv=KFold(3, random_state=2, shuffle=True), n_jobs=-1)\n",
    "gs1.fit(data_1000th)\n"
   ]
  },
  {
   "cell_type": "code",
   "execution_count": 20,
   "id": "7404f840",
   "metadata": {},
   "outputs": [
    {
     "name": "stdout",
     "output_type": "stream",
     "text": [
      "1.983510362124577\n",
      "{'n_epochs': 30, 'n_factors': 10, 'lr_all': 0.007, 'reg_all': 0.1}\n"
     ]
    }
   ],
   "source": [
    "print(gs1.best_score['rmse'])\n",
    "print(gs1.best_params['rmse'])"
   ]
  },
  {
   "cell_type": "code",
   "execution_count": 23,
   "id": "d36a8195",
   "metadata": {},
   "outputs": [
    {
     "data": {
      "text/plain": [
       "<surprise.prediction_algorithms.matrix_factorization.SVD at 0x7fc5dcc99550>"
      ]
     },
     "execution_count": 23,
     "metadata": {},
     "output_type": "execute_result"
    }
   ],
   "source": [
    "# since the improvement is tiny, \n",
    "# we'll take these pramas as the best combination\n",
    "# try to build a SVD model on the sample dataset\n",
    "\n",
    "trainset_1000th = data_1000th.build_full_trainset()\n",
    "svd_1000th = gs1.best_estimator['rmse']\n",
    "svd_1000th.fit(trainset_1000th)"
   ]
  },
  {
   "cell_type": "code",
   "execution_count": 24,
   "id": "01c6d22b",
   "metadata": {},
   "outputs": [
    {
     "data": {
      "text/plain": [
       "1.8005793479495626"
      ]
     },
     "execution_count": 24,
     "metadata": {},
     "output_type": "execute_result"
    }
   ],
   "source": [
    "# try to predict \n",
    "svd_1000th.predict(3, 5).est"
   ]
  },
  {
   "cell_type": "code",
   "execution_count": 25,
   "id": "7fa13661",
   "metadata": {},
   "outputs": [
    {
     "data": {
      "text/plain": [
       "['svd_1000th_trained_joblib']"
      ]
     },
     "execution_count": 25,
     "metadata": {},
     "output_type": "execute_result"
    }
   ],
   "source": [
    "# save the trained SVD model\n",
    "\n",
    "import joblib\n",
    "joblib.dump(svd_1000th, 'svd_1000th_trained_joblib')"
   ]
  },
  {
   "cell_type": "code",
   "execution_count": null,
   "id": "b7442725",
   "metadata": {},
   "outputs": [],
   "source": []
  },
  {
   "cell_type": "code",
   "execution_count": null,
   "id": "9dcdc034",
   "metadata": {},
   "outputs": [],
   "source": [
    "# read the book data and user data"
   ]
  },
  {
   "cell_type": "code",
   "execution_count": 26,
   "id": "a49c7107",
   "metadata": {},
   "outputs": [
    {
     "data": {
      "text/html": [
       "<div>\n",
       "<style scoped>\n",
       "    .dataframe tbody tr th:only-of-type {\n",
       "        vertical-align: middle;\n",
       "    }\n",
       "\n",
       "    .dataframe tbody tr th {\n",
       "        vertical-align: top;\n",
       "    }\n",
       "\n",
       "    .dataframe thead th {\n",
       "        text-align: right;\n",
       "    }\n",
       "</style>\n",
       "<table border=\"1\" class=\"dataframe\">\n",
       "  <thead>\n",
       "    <tr style=\"text-align: right;\">\n",
       "      <th></th>\n",
       "      <th>isbn</th>\n",
       "      <th>text_reviews_count</th>\n",
       "      <th>series</th>\n",
       "      <th>country_code</th>\n",
       "      <th>language_code</th>\n",
       "      <th>popular_shelves</th>\n",
       "      <th>asin</th>\n",
       "      <th>is_ebook</th>\n",
       "      <th>average_rating</th>\n",
       "      <th>kindle_asin</th>\n",
       "      <th>...</th>\n",
       "      <th>publication_month</th>\n",
       "      <th>edition_information</th>\n",
       "      <th>publication_year</th>\n",
       "      <th>url</th>\n",
       "      <th>image_url</th>\n",
       "      <th>book_id</th>\n",
       "      <th>ratings_count</th>\n",
       "      <th>work_id</th>\n",
       "      <th>title</th>\n",
       "      <th>title_without_series</th>\n",
       "    </tr>\n",
       "  </thead>\n",
       "  <tbody>\n",
       "    <tr>\n",
       "      <th>0</th>\n",
       "      <td>0312853122</td>\n",
       "      <td>1</td>\n",
       "      <td>[]</td>\n",
       "      <td>US</td>\n",
       "      <td></td>\n",
       "      <td>[{'count': '3', 'name': 'to-read'}, {'count': ...</td>\n",
       "      <td></td>\n",
       "      <td>false</td>\n",
       "      <td>4.00</td>\n",
       "      <td></td>\n",
       "      <td>...</td>\n",
       "      <td>9</td>\n",
       "      <td></td>\n",
       "      <td>1984</td>\n",
       "      <td>https://www.goodreads.com/book/show/5333265-w-...</td>\n",
       "      <td>https://images.gr-assets.com/books/1310220028m...</td>\n",
       "      <td>5333265</td>\n",
       "      <td>3</td>\n",
       "      <td>5400751</td>\n",
       "      <td>W.C. Fields: A Life on Film</td>\n",
       "      <td>W.C. Fields: A Life on Film</td>\n",
       "    </tr>\n",
       "    <tr>\n",
       "      <th>1</th>\n",
       "      <td>0743509986</td>\n",
       "      <td>6</td>\n",
       "      <td>[]</td>\n",
       "      <td>US</td>\n",
       "      <td></td>\n",
       "      <td>[{'count': '2634', 'name': 'to-read'}, {'count...</td>\n",
       "      <td></td>\n",
       "      <td>false</td>\n",
       "      <td>3.23</td>\n",
       "      <td>B000FC0PBC</td>\n",
       "      <td>...</td>\n",
       "      <td>10</td>\n",
       "      <td>Abridged</td>\n",
       "      <td>2001</td>\n",
       "      <td>https://www.goodreads.com/book/show/1333909.Go...</td>\n",
       "      <td>https://s.gr-assets.com/assets/nophoto/book/11...</td>\n",
       "      <td>1333909</td>\n",
       "      <td>10</td>\n",
       "      <td>1323437</td>\n",
       "      <td>Good Harbor</td>\n",
       "      <td>Good Harbor</td>\n",
       "    </tr>\n",
       "    <tr>\n",
       "      <th>2</th>\n",
       "      <td></td>\n",
       "      <td>7</td>\n",
       "      <td>[189911]</td>\n",
       "      <td>US</td>\n",
       "      <td>eng</td>\n",
       "      <td>[{'count': '58', 'name': 'to-read'}, {'count':...</td>\n",
       "      <td>B00071IKUY</td>\n",
       "      <td>false</td>\n",
       "      <td>4.03</td>\n",
       "      <td></td>\n",
       "      <td>...</td>\n",
       "      <td></td>\n",
       "      <td>Book Club Edition</td>\n",
       "      <td>1987</td>\n",
       "      <td>https://www.goodreads.com/book/show/7327624-th...</td>\n",
       "      <td>https://images.gr-assets.com/books/1304100136m...</td>\n",
       "      <td>7327624</td>\n",
       "      <td>140</td>\n",
       "      <td>8948723</td>\n",
       "      <td>The Unschooled Wizard (Sun Wolf and Starhawk, ...</td>\n",
       "      <td>The Unschooled Wizard (Sun Wolf and Starhawk, ...</td>\n",
       "    </tr>\n",
       "  </tbody>\n",
       "</table>\n",
       "<p>3 rows × 29 columns</p>\n",
       "</div>"
      ],
      "text/plain": [
       "         isbn text_reviews_count    series country_code language_code  \\\n",
       "0  0312853122                  1        []           US                 \n",
       "1  0743509986                  6        []           US                 \n",
       "2                              7  [189911]           US           eng   \n",
       "\n",
       "                                     popular_shelves        asin is_ebook  \\\n",
       "0  [{'count': '3', 'name': 'to-read'}, {'count': ...                false   \n",
       "1  [{'count': '2634', 'name': 'to-read'}, {'count...                false   \n",
       "2  [{'count': '58', 'name': 'to-read'}, {'count':...  B00071IKUY    false   \n",
       "\n",
       "  average_rating kindle_asin  ... publication_month edition_information  \\\n",
       "0           4.00              ...                 9                       \n",
       "1           3.23  B000FC0PBC  ...                10            Abridged   \n",
       "2           4.03              ...                     Book Club Edition   \n",
       "\n",
       "  publication_year                                                url  \\\n",
       "0             1984  https://www.goodreads.com/book/show/5333265-w-...   \n",
       "1             2001  https://www.goodreads.com/book/show/1333909.Go...   \n",
       "2             1987  https://www.goodreads.com/book/show/7327624-th...   \n",
       "\n",
       "                                           image_url  book_id ratings_count  \\\n",
       "0  https://images.gr-assets.com/books/1310220028m...  5333265             3   \n",
       "1  https://s.gr-assets.com/assets/nophoto/book/11...  1333909            10   \n",
       "2  https://images.gr-assets.com/books/1304100136m...  7327624           140   \n",
       "\n",
       "   work_id                                              title  \\\n",
       "0  5400751                        W.C. Fields: A Life on Film   \n",
       "1  1323437                                        Good Harbor   \n",
       "2  8948723  The Unschooled Wizard (Sun Wolf and Starhawk, ...   \n",
       "\n",
       "                                title_without_series  \n",
       "0                        W.C. Fields: A Life on Film  \n",
       "1                                        Good Harbor  \n",
       "2  The Unschooled Wizard (Sun Wolf and Starhawk, ...  \n",
       "\n",
       "[3 rows x 29 columns]"
      ]
     },
     "execution_count": 26,
     "metadata": {},
     "output_type": "execute_result"
    }
   ],
   "source": [
    "import json\n",
    "\n",
    "metadata = pd.read_json('/data/cmpe256-sp22/013900770/project/goodreads_books.json', lines=True)\n",
    "metadata.head(3)\n"
   ]
  },
  {
   "cell_type": "code",
   "execution_count": 27,
   "id": "78a3890f",
   "metadata": {},
   "outputs": [
    {
     "data": {
      "text/html": [
       "<div>\n",
       "<style scoped>\n",
       "    .dataframe tbody tr th:only-of-type {\n",
       "        vertical-align: middle;\n",
       "    }\n",
       "\n",
       "    .dataframe tbody tr th {\n",
       "        vertical-align: top;\n",
       "    }\n",
       "\n",
       "    .dataframe thead th {\n",
       "        text-align: right;\n",
       "    }\n",
       "</style>\n",
       "<table border=\"1\" class=\"dataframe\">\n",
       "  <thead>\n",
       "    <tr style=\"text-align: right;\">\n",
       "      <th></th>\n",
       "      <th>user_id_csv</th>\n",
       "      <th>user_id</th>\n",
       "    </tr>\n",
       "  </thead>\n",
       "  <tbody>\n",
       "    <tr>\n",
       "      <th>0</th>\n",
       "      <td>0</td>\n",
       "      <td>8842281e1d1347389f2ab93d60773d4d</td>\n",
       "    </tr>\n",
       "    <tr>\n",
       "      <th>1</th>\n",
       "      <td>1</td>\n",
       "      <td>72fb0d0087d28c832f15776b0d936598</td>\n",
       "    </tr>\n",
       "    <tr>\n",
       "      <th>2</th>\n",
       "      <td>2</td>\n",
       "      <td>ab2923b738ea3082f5f3efcbbfacb218</td>\n",
       "    </tr>\n",
       "  </tbody>\n",
       "</table>\n",
       "</div>"
      ],
      "text/plain": [
       "   user_id_csv                           user_id\n",
       "0            0  8842281e1d1347389f2ab93d60773d4d\n",
       "1            1  72fb0d0087d28c832f15776b0d936598\n",
       "2            2  ab2923b738ea3082f5f3efcbbfacb218"
      ]
     },
     "execution_count": 27,
     "metadata": {},
     "output_type": "execute_result"
    }
   ],
   "source": [
    "user_map = pd.read_csv('/data/cmpe256-sp22/013900770/project/user_id_map.csv')\n",
    "user_map.head(3)"
   ]
  },
  {
   "cell_type": "code",
   "execution_count": 28,
   "id": "b8df6c10",
   "metadata": {},
   "outputs": [
    {
     "data": {
      "text/html": [
       "<div>\n",
       "<style scoped>\n",
       "    .dataframe tbody tr th:only-of-type {\n",
       "        vertical-align: middle;\n",
       "    }\n",
       "\n",
       "    .dataframe tbody tr th {\n",
       "        vertical-align: top;\n",
       "    }\n",
       "\n",
       "    .dataframe thead th {\n",
       "        text-align: right;\n",
       "    }\n",
       "</style>\n",
       "<table border=\"1\" class=\"dataframe\">\n",
       "  <thead>\n",
       "    <tr style=\"text-align: right;\">\n",
       "      <th></th>\n",
       "      <th>book_id_csv</th>\n",
       "      <th>book_id</th>\n",
       "    </tr>\n",
       "  </thead>\n",
       "  <tbody>\n",
       "    <tr>\n",
       "      <th>0</th>\n",
       "      <td>0</td>\n",
       "      <td>34684622</td>\n",
       "    </tr>\n",
       "    <tr>\n",
       "      <th>1</th>\n",
       "      <td>1</td>\n",
       "      <td>34536488</td>\n",
       "    </tr>\n",
       "    <tr>\n",
       "      <th>2</th>\n",
       "      <td>2</td>\n",
       "      <td>34017076</td>\n",
       "    </tr>\n",
       "  </tbody>\n",
       "</table>\n",
       "</div>"
      ],
      "text/plain": [
       "   book_id_csv   book_id\n",
       "0            0  34684622\n",
       "1            1  34536488\n",
       "2            2  34017076"
      ]
     },
     "execution_count": 28,
     "metadata": {},
     "output_type": "execute_result"
    }
   ],
   "source": [
    "book_map =pd.read_csv('/data/cmpe256-sp22/013900770/project/book_id_map.csv')\n",
    "book_map.head(3)"
   ]
  },
  {
   "cell_type": "code",
   "execution_count": null,
   "id": "b0e09181",
   "metadata": {},
   "outputs": [],
   "source": []
  },
  {
   "cell_type": "code",
   "execution_count": 52,
   "id": "e3266d46",
   "metadata": {},
   "outputs": [],
   "source": [
    "# recommendation based on user, title, genre\n",
    "\n",
    "import difflib\n",
    "import random\n",
    "\n",
    "def get_user_mapped_id(user_id, user_map):\n",
    "    user_ids = list(user_map['user_id'].values)\n",
    "    return user_ids.index(user_id)\n",
    "\n",
    "def get_book_info(book_id, metadata):\n",
    "    book_info = metadata[metadata['book_id'] == book_id][['book_id', 'isbn', 'authors', 'title', 'average_rating']]\n",
    "    return book_info.to_dict(orient='records')\n",
    "\n",
    "def is_in_genre(book_id, genre):\n",
    "    shelf = metadata[metadata['book_id']==book_id].values.tolist()[0][5]\n",
    "    for dic in shelf:\n",
    "        if dic['name'] == genre: return True\n",
    "    return False\n",
    "\n",
    "def generate_recommendation(user_id, title, model, genre, thresh=4):\n",
    "    if user_id == None: return \"Please provide your user_id\"\n",
    "    user_mapped_id = get_user_mapped_id(user_id, user_map)\n",
    "    book_ids = list(book_map['book_id'].values)\n",
    "    if title:  \n",
    "        titles = list(metadata['title'].values)\n",
    "        random.shuffle(titles)\n",
    "        closest_titles = difflib.get_close_matches(title, titles)\n",
    "\n",
    "        for t in closest_titles:\n",
    "            book_id = metadata[metadata['title'] == t]['book_id'].values[0]\n",
    "            book_mapped_id = book_ids.index(book_id)\n",
    "            rating = model.predict(user_mapped_id, book_mapped_id).est\n",
    "            if rating >= thresh:\n",
    "                if genre:\n",
    "                    if is_in_genre(book_id, genre):\n",
    "                        return get_book_info(book_id, metadata)\n",
    "                else:\n",
    "                    return get_book_info(book_id, metadata)\n",
    "        return \"All books with this title will be rated by you below the threshold\"\n",
    "    else:\n",
    "        if genre:\n",
    "            random.shuffle(book_ids)\n",
    "            for book_id in book_ids:\n",
    "                if is_in_genre(book_id, genre):\n",
    "                    book_mapped_id = book_ids.index(book_id)\n",
    "                    rating = model.predict(user_mapped_id, book_mapped_id).est\n",
    "                    if rating >= thresh: \n",
    "                        return get_book_info(book_id, metadata)\n",
    "        else:\n",
    "            return \"Please provide title and/or genre\"\n",
    "                \n",
    "                "
   ]
  },
  {
   "cell_type": "code",
   "execution_count": 32,
   "id": "8d2d6486",
   "metadata": {},
   "outputs": [
    {
     "data": {
      "text/plain": [
       "[{'book_id': 27416023,\n",
       "  'isbn': '1455536776',\n",
       "  'authors': [{'author_id': '7084780', 'role': ''}],\n",
       "  'title': 'Remembering Everly (Lost & Found, #2)',\n",
       "  'average_rating': '3.70'}]"
      ]
     },
     "execution_count": 32,
     "metadata": {},
     "output_type": "execute_result"
    }
   ],
   "source": [
    "# Recommend with svd_100th model, given user_id, genre, and threshold\n",
    "\n",
    "user_id = '8842281e1d1347389f2ab93d60773d4d'\n",
    "title = None\n",
    "model = svd_1000th\n",
    "genre = 'romance'\n",
    "thresh = 4.0\n",
    "\n",
    "generate_recommendation(user_id, title, model, genre, thresh)\n"
   ]
  },
  {
   "cell_type": "code",
   "execution_count": 53,
   "id": "00a0d68b",
   "metadata": {},
   "outputs": [
    {
     "data": {
      "text/plain": [
       "'All books with this title will be rated by you below the threshold'"
      ]
     },
     "execution_count": 53,
     "metadata": {},
     "output_type": "execute_result"
    }
   ],
   "source": [
    "# Recommend with svd_100th model, given user_id, title, and threshold\n",
    "\n",
    "user_id = '8842281e1d1347389f2ab93d60773d4d'\n",
    "title = 'Dog Heaven'\n",
    "model = svd_1000th\n",
    "genre = None\n",
    "thresh = 4.0\n",
    "\n",
    "generate_recommendation(user_id, title, model, genre, thresh)\n"
   ]
  },
  {
   "cell_type": "code",
   "execution_count": null,
   "id": "1c962e04",
   "metadata": {},
   "outputs": [],
   "source": []
  },
  {
   "cell_type": "code",
   "execution_count": null,
   "id": "02796848",
   "metadata": {},
   "outputs": [],
   "source": [
    "# Works cited:\n",
    "# Mengting Wan, Julian McAuley, \"Item Recommendation on Monotonic Behavior Chains\", in RecSys'18. [bibtex]\n",
    "# Mengting Wan, Rishabh Misra, Ndapa Nakashole, Julian McAuley, \"Fine-Grained Spoiler Detection from Large-Scale Review Corpora\", in ACL'19. [bibtex]\n",
    "# Amol Mavuduru, \"How you can build simple recommender systems with Surprise\"\n",
    "# Poorna Srinivas Gutta, \"Solution to HW1\"\n",
    "# Harshil Bharatkumar Darji, \"Solution to HW1\"\n"
   ]
  },
  {
   "cell_type": "code",
   "execution_count": null,
   "id": "bb44bdae",
   "metadata": {},
   "outputs": [],
   "source": []
  }
 ],
 "metadata": {
  "kernelspec": {
   "display_name": "Python 3 (ipykernel)",
   "language": "python",
   "name": "python3"
  },
  "language_info": {
   "codemirror_mode": {
    "name": "ipython",
    "version": 3
   },
   "file_extension": ".py",
   "mimetype": "text/x-python",
   "name": "python",
   "nbconvert_exporter": "python",
   "pygments_lexer": "ipython3",
   "version": "3.9.7"
  }
 },
 "nbformat": 4,
 "nbformat_minor": 5
}
