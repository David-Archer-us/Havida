{
 "cells": [
  {
   "cell_type": "code",
   "execution_count": 2,
   "id": "6d066478",
   "metadata": {},
   "outputs": [
    {
     "name": "stderr",
     "output_type": "stream",
     "text": [
      "/Users/s/opt/anaconda3/lib/python3.9/site-packages/IPython/core/interactiveshell.py:3444: DtypeWarning: Columns (0,1,2,3,4) have mixed types.Specify dtype option on import or set low_memory=False.\n",
      "  exec(code_obj, self.user_global_ns, self.user_ns)\n"
     ]
    },
    {
     "data": {
      "text/plain": [
       "(228648343, 3)"
      ]
     },
     "execution_count": 2,
     "metadata": {},
     "output_type": "execute_result"
    }
   ],
   "source": [
    "import pandas as pd\n",
    "ratings = pd.read_csv('goodreads_interactions.csv', names=['user_id', 'book_id', 'is_read', 'rating', 'is_reviewed'])\n",
    "ratings.drop([\"is_read\", \"is_reviewed\"], inplace=True, axis=1)\n",
    "ratings.shape"
   ]
  },
  {
   "cell_type": "code",
   "execution_count": 3,
   "id": "959632ad",
   "metadata": {},
   "outputs": [
    {
     "name": "stdout",
     "output_type": "stream",
     "text": [
      "<class 'pandas.core.frame.DataFrame'>\n",
      "RangeIndex: 228648343 entries, 0 to 228648342\n",
      "Data columns (total 3 columns):\n",
      " #   Column   Dtype \n",
      "---  ------   ----- \n",
      " 0   user_id  object\n",
      " 1   book_id  object\n",
      " 2   rating   object\n",
      "dtypes: object(3)\n",
      "memory usage: 5.1+ GB\n"
     ]
    }
   ],
   "source": [
    "ratings.info()"
   ]
  },
  {
   "cell_type": "code",
   "execution_count": 4,
   "id": "7301ac0e",
   "metadata": {},
   "outputs": [
    {
     "data": {
      "text/plain": [
       "user_id    0\n",
       "book_id    0\n",
       "rating     0\n",
       "dtype: int64"
      ]
     },
     "execution_count": 4,
     "metadata": {},
     "output_type": "execute_result"
    }
   ],
   "source": [
    "ratings.isnull().sum()"
   ]
  },
  {
   "cell_type": "code",
   "execution_count": 5,
   "id": "585d9f73",
   "metadata": {},
   "outputs": [
    {
     "data": {
      "text/plain": [
       "(876147, 2431885)"
      ]
     },
     "execution_count": 5,
     "metadata": {},
     "output_type": "execute_result"
    }
   ],
   "source": [
    "n_user = ratings.user_id.unique().shape[0]\n",
    "n_book = ratings.book_id.unique().shape[0]\n",
    "n_user, n_book"
   ]
  },
  {
   "cell_type": "code",
   "execution_count": null,
   "id": "fee391ad",
   "metadata": {},
   "outputs": [],
   "source": [
    "rating_matrix = ratings.pivot_table(index=[\"user_id\"], columns=[\"book_id\"], values=\"rating\")\n",
    "rating_matrix.head()"
   ]
  },
  {
   "cell_type": "code",
   "execution_count": null,
   "id": "7bdd286c",
   "metadata": {},
   "outputs": [],
   "source": [
    "from surprise import Reader, Dataset, NormalPredictor, accuracy\n",
    "from surprise import SVD, SVDpp, NMF, KNNBaseline, KNNBasic, KNNWithMeans, KNNWithZScore\n",
    "from surprise.model_selection import cross_validate, GridSearchCV, KFold"
   ]
  },
  {
   "cell_type": "code",
   "execution_count": null,
   "id": "9544d074",
   "metadata": {},
   "outputs": [],
   "source": [
    "reader = Reader(rating_scale=(1.0, 5.0))\n",
    "data = Dataset.load_from_df(ratings[['user_id', 'book_id', 'rating']], reader)"
   ]
  },
  {
   "cell_type": "code",
   "execution_count": null,
   "id": "d6cdbbce",
   "metadata": {},
   "outputs": [],
   "source": [
    "benchmark = []\n",
    "\n",
    "for algorithm in [SVD(), SVDpp(), SlopeOne(), NMF(), NormalPredictor(), KNNBaseline(), KNNBasic(), KNNWithMeans(), KNNWithZScore()]:\n",
    "    results = cross_validate(algorithm, data, measures=['RMSE'], cv=KFold(10, random_state=2, shuffle=True), verbose=True, n_jobs=-1)\n",
    "    tmp = pd.DataFrame.from_dict(results).mean(axis=0)\n",
    "    tmp = tmp.append(pd.Series([str(algorithm).split(' ')[0].split('.')[-1]], index=['Algorithm']))\n",
    "    benchmark.append(tmp)\n",
    "    \n",
    "pd.DataFrame(benchmark).set_index('Algorithm').sort_values('test_rmse')\n"
   ]
  },
  {
   "cell_type": "code",
   "execution_count": null,
   "id": "da11d7a9",
   "metadata": {},
   "outputs": [],
   "source": [
    "#SVDpp\n",
    "param_grid = {'n_epochs': [20,25,30,40], 'n_factors': [5,8,10,15,20,25],\n",
    "             'lr_all': [0.005, 0.007], 'reg_all': [0.02, 0.01, 0.04]}\n",
    "gs = GridSearchCV(SVDpp, param_grid, measures=['rmse'], cv=KFold(6, random_state=2, shuffle=True), n_jobs=-1)\n",
    "gs.fit(data)\n",
    "print(gs.best_score['rmse'])\n",
    "print(gs.best_params['rmse'])\n"
   ]
  },
  {
   "cell_type": "code",
   "execution_count": null,
   "id": "1ab0c47f",
   "metadata": {},
   "outputs": [],
   "source": [
    "svdpp = gs.best_estimator['rmse']\n",
    "trainset = data.build_full_trainset()\n",
    "svdpp.fit(trainset)"
   ]
  },
  {
   "cell_type": "code",
   "execution_count": null,
   "id": "35aaf95b",
   "metadata": {},
   "outputs": [],
   "source": [
    "svdpp.predict(3, 5).est"
   ]
  },
  {
   "cell_type": "code",
   "execution_count": null,
   "id": "e29715f0",
   "metadata": {},
   "outputs": [],
   "source": [
    "import json\n",
    "\n",
    "metadata = pd.read_json('goodreads_books.json')\n",
    "metadata.head(3)\n"
   ]
  },
  {
   "cell_type": "code",
   "execution_count": null,
   "id": "c9be22f5",
   "metadata": {},
   "outputs": [],
   "source": [
    "user_map = pd.read_csv('user_id_map.csv')\n",
    "user_map.head(3)"
   ]
  },
  {
   "cell_type": "code",
   "execution_count": null,
   "id": "a8ca913c",
   "metadata": {},
   "outputs": [],
   "source": [
    "book_map =pd.read_csv('book_id_map')\n",
    "book_map.head(3)"
   ]
  },
  {
   "cell_type": "code",
   "execution_count": null,
   "id": "ba7b2bd6",
   "metadata": {},
   "outputs": [],
   "source": [
    "# recommendation based on user, title, genre\n",
    "import difflib\n",
    "import random\n",
    "\n",
    "def get_user_mapped_id(user_id, user_map):\n",
    "    user_ids = list(user_map['user_id'].values)\n",
    "    return user_ids.index(user_id)\n",
    "\n",
    "def get_book_info(book_id, metadata):\n",
    "    book_info = metadata[metadata['book_id'] == book_id][['book_id', 'isbn', 'authors', 'title']]\n",
    "    return book_info.to_dict(orient='records')\n",
    "\n",
    "def is_in_genre(book_id, genre):\n",
    "    shelf = metadata[metadata['book_id']==book_id].popular_shelves\n",
    "    for dic in shelf:\n",
    "        if dic['name']==genre: return True\n",
    "    return False\n",
    "\n",
    "def generate_recommendation(user_id, title, model, genre, thresh=4):\n",
    "    if user_id == None: return \"Please provide your user_id\"\n",
    "    user_mapped_id = get_user_mapped_id(user_id, user_map)\n",
    "    book_ids = list(book_map['book_id'].values)\n",
    "    if title:  \n",
    "        titles = list(metadata['title'].values)\n",
    "        random.shuffle(titles)\n",
    "        closest_titles = difflib.get_close_matches(title, titles)\n",
    "\n",
    "        for t in closest_titles:\n",
    "            book_id = metadata[metadata['title'] == t]['book_id'].values[0]\n",
    "            book_mapped_id = book_ids.index(book_id)\n",
    "            rating = model.predict(user_mapped_id, book_mapped_id).est\n",
    "            if rating >= thresh:\n",
    "                if genre:\n",
    "                    if is_in_genre(book_id, genre):\n",
    "                        return get_book_info(book_id, metadata)\n",
    "                else:\n",
    "                    return get_book_info(book_id, metadata)\n",
    "    else:\n",
    "        if genre:\n",
    "            random.shuffle(book_ids)\n",
    "            for book_id in book_ids:\n",
    "                if is_in_genre(book_id, genre):\n",
    "                    book_mapped_id = book_ids.index(book_id)\n",
    "                    rating = model.predict(user_mapped_id, book_mapped_id)\n",
    "                    if rating >= thresh: \n",
    "                        return get_book_info(book_id, metadata)\n",
    "        else:\n",
    "            return \"Please provide title and/or genre\"\n",
    "                \n",
    "                \n",
    "        "
   ]
  },
  {
   "cell_type": "code",
   "execution_count": null,
   "id": "c566422d",
   "metadata": {},
   "outputs": [],
   "source": [
    "user_id = None\n",
    "title = None\n",
    "model = svdpp\n",
    "genre = None\n",
    "thresh = 4\n",
    "generate_recommendation(user_id, title, model, genre, thresh)"
   ]
  },
  {
   "cell_type": "code",
   "execution_count": null,
   "id": "46a50686",
   "metadata": {},
   "outputs": [],
   "source": [
    "# Works cited:\n",
    "# Mengting Wan, Julian McAuley, \"Item Recommendation on Monotonic Behavior Chains\", in RecSys'18. [bibtex]\n",
    "# Mengting Wan, Rishabh Misra, Ndapa Nakashole, Julian McAuley, \"Fine-Grained Spoiler Detection from Large-Scale Review Corpora\", in ACL'19. [bibtex]\n",
    "# Amol Mavuduru, \"How you can build simple recommender systems with Surprise\"\n",
    "# Poorna Srinivas Gutta, \"Solution to HW1\"\n",
    "# Harshil Bharatkumar Darji, \"Solution to HW1\""
   ]
  }
 ],
 "metadata": {
  "kernelspec": {
   "display_name": "Python 3 (ipykernel)",
   "language": "python",
   "name": "python3"
  },
  "language_info": {
   "codemirror_mode": {
    "name": "ipython",
    "version": 3
   },
   "file_extension": ".py",
   "mimetype": "text/x-python",
   "name": "python",
   "nbconvert_exporter": "python",
   "pygments_lexer": "ipython3",
   "version": "3.9.7"
  }
 },
 "nbformat": 4,
 "nbformat_minor": 5
}
