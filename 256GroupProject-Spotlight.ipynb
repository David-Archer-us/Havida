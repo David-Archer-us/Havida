{
 "cells": [
  {
   "cell_type": "code",
   "execution_count": 2,
   "id": "7db2d3b3",
   "metadata": {},
   "outputs": [
    {
     "name": "stdout",
     "output_type": "stream",
     "text": [
      "Collecting package metadata (current_repodata.json): done\n",
      "Solving environment: failed with initial frozen solve. Retrying with flexible solve.\n",
      "Solving environment: failed with repodata from current_repodata.json, will retry with next repodata source.\n",
      "Collecting package metadata (repodata.json): done\n",
      "Solving environment: done\n",
      "\n",
      "## Package Plan ##\n",
      "\n",
      "  environment location: /Users/vineethchitturi/opt/anaconda3/envs/my36\n",
      "\n",
      "  added / updated specs:\n",
      "    - spotlight\n",
      "\n",
      "\n",
      "The following packages will be downloaded:\n",
      "\n",
      "    package                    |            build\n",
      "    ---------------------------|-----------------\n",
      "    brotlipy-0.7.0             |py36h9ed2024_1003         332 KB\n",
      "    charset-normalizer-2.0.4   |     pyhd3eb1b0_0          35 KB\n",
      "    cryptography-35.0.0        |   py36h2fd3fbb_0         1.1 MB\n",
      "    h5py-2.10.0                |   py36h0601b69_1         788 KB\n",
      "    hdf5-1.10.6                |       hdbbcd12_0         3.0 MB\n",
      "    idna-3.3                   |     pyhd3eb1b0_0          49 KB\n",
      "    intel-openmp-2022.0.0      |    hecd8cb5_3615         971 KB\n",
      "    llvm-openmp-12.0.0         |       h0dcd299_1         262 KB\n",
      "    mkl-2019.4                 |              233       101.9 MB\n",
      "    mkl-service-2.3.0          |   py36h9ed2024_0          41 KB\n",
      "    mkl_fft-1.3.0              |   py36ha059aab_0         156 KB\n",
      "    mkl_random-1.1.1           |   py36h959d312_0         290 KB\n",
      "    ninja-1.10.2               |       hecd8cb5_5           9 KB\n",
      "    ninja-base-1.10.2          |       haf03e11_5         118 KB\n",
      "    numpy-1.19.2               |   py36h456fd55_0          21 KB\n",
      "    numpy-base-1.19.2          |   py36hcfb5961_0         4.0 MB\n",
      "    pyopenssl-22.0.0           |     pyhd3eb1b0_0          50 KB\n",
      "    pysocks-1.7.1              |   py36hecd8cb5_0          31 KB\n",
      "    pytorch-0.4.0              |py36_cuda0.0_cudnn0.0_1         7.3 MB  pytorch\n",
      "    requests-2.27.1            |     pyhd3eb1b0_0          54 KB\n",
      "    scikit-learn-0.24.2        |   py36hb2f4e1b_0         4.9 MB\n",
      "    scipy-1.5.2                |   py36h912ce22_0        13.4 MB\n",
      "    spotlight-0.1.5            |           py36_0          44 KB  maciejkula\n",
      "    threadpoolctl-2.2.0        |     pyh0d69192_0          16 KB\n",
      "    urllib3-1.26.8             |     pyhd3eb1b0_0         106 KB\n",
      "    ------------------------------------------------------------\n",
      "                                           Total:       138.9 MB\n",
      "\n",
      "The following NEW packages will be INSTALLED:\n",
      "\n",
      "  blas               pkgs/main/osx-64::blas-1.0-mkl\n",
      "  brotlipy           pkgs/main/osx-64::brotlipy-0.7.0-py36h9ed2024_1003\n",
      "  charset-normalizer pkgs/main/noarch::charset-normalizer-2.0.4-pyhd3eb1b0_0\n",
      "  cryptography       pkgs/main/osx-64::cryptography-35.0.0-py36h2fd3fbb_0\n",
      "  h5py               pkgs/main/osx-64::h5py-2.10.0-py36h0601b69_1\n",
      "  hdf5               pkgs/main/osx-64::hdf5-1.10.6-hdbbcd12_0\n",
      "  idna               pkgs/main/noarch::idna-3.3-pyhd3eb1b0_0\n",
      "  intel-openmp       pkgs/main/osx-64::intel-openmp-2022.0.0-hecd8cb5_3615\n",
      "  joblib             pkgs/main/noarch::joblib-1.0.1-pyhd3eb1b0_0\n",
      "  libgfortran        pkgs/main/osx-64::libgfortran-3.0.1-h93005f0_2\n",
      "  llvm-openmp        pkgs/main/osx-64::llvm-openmp-12.0.0-h0dcd299_1\n",
      "  mkl                pkgs/main/osx-64::mkl-2019.4-233\n",
      "  mkl-service        pkgs/main/osx-64::mkl-service-2.3.0-py36h9ed2024_0\n",
      "  mkl_fft            pkgs/main/osx-64::mkl_fft-1.3.0-py36ha059aab_0\n",
      "  mkl_random         pkgs/main/osx-64::mkl_random-1.1.1-py36h959d312_0\n",
      "  ninja              pkgs/main/osx-64::ninja-1.10.2-hecd8cb5_5\n",
      "  ninja-base         pkgs/main/osx-64::ninja-base-1.10.2-haf03e11_5\n",
      "  numpy              pkgs/main/osx-64::numpy-1.19.2-py36h456fd55_0\n",
      "  numpy-base         pkgs/main/osx-64::numpy-base-1.19.2-py36hcfb5961_0\n",
      "  pyopenssl          pkgs/main/noarch::pyopenssl-22.0.0-pyhd3eb1b0_0\n",
      "  pysocks            pkgs/main/osx-64::pysocks-1.7.1-py36hecd8cb5_0\n",
      "  pytorch            pytorch/osx-64::pytorch-0.4.0-py36_cuda0.0_cudnn0.0_1\n",
      "  requests           pkgs/main/noarch::requests-2.27.1-pyhd3eb1b0_0\n",
      "  scikit-learn       pkgs/main/osx-64::scikit-learn-0.24.2-py36hb2f4e1b_0\n",
      "  scipy              pkgs/main/osx-64::scipy-1.5.2-py36h912ce22_0\n",
      "  spotlight          maciejkula/osx-64::spotlight-0.1.5-py36_0\n",
      "  threadpoolctl      pkgs/main/noarch::threadpoolctl-2.2.0-pyh0d69192_0\n",
      "  urllib3            pkgs/main/noarch::urllib3-1.26.8-pyhd3eb1b0_0\n",
      "\n",
      "\n",
      "\n",
      "Downloading and Extracting Packages\n",
      "requests-2.27.1      | 54 KB     | ##################################### | 100% \n",
      "mkl_fft-1.3.0        | 156 KB    | ##################################### | 100% \n",
      "mkl-service-2.3.0    | 41 KB     | ##################################### | 100% \n",
      "ninja-1.10.2         | 9 KB      | ##################################### | 100% \n",
      "urllib3-1.26.8       | 106 KB    | ##################################### | 100% \n",
      "spotlight-0.1.5      | 44 KB     | ##################################### | 100% \n",
      "llvm-openmp-12.0.0   | 262 KB    | ##################################### | 100% \n",
      "intel-openmp-2022.0. | 971 KB    | ##################################### | 100% \n",
      "ninja-base-1.10.2    | 118 KB    | ##################################### | 100% \n",
      "pytorch-0.4.0        | 7.3 MB    | ##################################### | 100% \n",
      "scikit-learn-0.24.2  | 4.9 MB    | ##################################### | 100% \n",
      "mkl-2019.4           | 101.9 MB  | ##################################### | 100% \n",
      "numpy-1.19.2         | 21 KB     | ##################################### | 100% \n",
      "brotlipy-0.7.0       | 332 KB    | ##################################### | 100% \n",
      "idna-3.3             | 49 KB     | ##################################### | 100% \n",
      "pyopenssl-22.0.0     | 50 KB     | ##################################### | 100% \n",
      "mkl_random-1.1.1     | 290 KB    | ##################################### | 100% \n",
      "pysocks-1.7.1        | 31 KB     | ##################################### | 100% \n",
      "scipy-1.5.2          | 13.4 MB   | ##################################### | 100% \n",
      "cryptography-35.0.0  | 1.1 MB    | ##################################### | 100% \n",
      "numpy-base-1.19.2    | 4.0 MB    | ##################################### | 100% \n",
      "charset-normalizer-2 | 35 KB     | ##################################### | 100% \n",
      "h5py-2.10.0          | 788 KB    | ##################################### | 100% \n",
      "threadpoolctl-2.2.0  | 16 KB     | ##################################### | 100% \n",
      "hdf5-1.10.6          | 3.0 MB    | ##################################### | 100% \n",
      "Preparing transaction: done\n",
      "Verifying transaction: done\n",
      "Executing transaction: / \n",
      "\n",
      "    Installed package of scikit-learn can be accelerated using scikit-learn-intelex.\n",
      "    More details are available here: https://intel.github.io/scikit-learn-intelex\n",
      "\n",
      "    For example:\n",
      "\n",
      "        $ conda install scikit-learn-intelex\n",
      "        $ python -m sklearnex my_application.py\n",
      "\n",
      "    \n",
      "\n",
      "done\n"
     ]
    }
   ],
   "source": [
    "!conda install -c maciejkula -c pytorch spotlight -y"
   ]
  },
  {
   "cell_type": "markdown",
   "id": "c1f90354",
   "metadata": {},
   "source": [
    "## Prediction using ExplicitFactorization model\n",
    "\n",
    "### Explicit Factorization model uses the matrix factorization approach to recommend books\n",
    "\n",
    "#### Spotlight fits models such as these using stochastic gradient descent. The procedure goes roughly as follows:\n",
    "Start with representing users and items by randomly chosen vectors. Because they are random, they are not going to give useful recommendations, but we are going to improve them as we fit the model.\n",
    "Go through the (user, item, rating) triplets in the dataset. For every triplet, compute the rating that the model predicts by multiplying the user and item vectors together, and compare the result with the actual rating: the closer they are, the better the model.\n",
    "If the predicted rating is too low, adjust the user and item vectors (by a small amount) to increase the prediction.\n",
    "If the predicted rating is too high, adjust the vectors to decrease it.\n",
    "Continue iterating over the training triplets until the model's accuracy stabilizes.\n"
   ]
  },
  {
   "cell_type": "code",
   "execution_count": 39,
   "id": "60f6e0e1",
   "metadata": {},
   "outputs": [],
   "source": [
    "import numpy as np\n",
    "import pandas as pd\n",
    "import matplotlib.pyplot as plt\n",
    "%matplotlib inline"
   ]
  },
  {
   "cell_type": "code",
   "execution_count": 40,
   "id": "8d309267",
   "metadata": {},
   "outputs": [],
   "source": [
    "ratings_data = pd.read_csv('goodreads_interactions.csv')\n"
   ]
  },
  {
   "cell_type": "code",
   "execution_count": 41,
   "id": "40fd7f44",
   "metadata": {},
   "outputs": [
    {
     "data": {
      "text/html": [
       "<div>\n",
       "<style scoped>\n",
       "    .dataframe tbody tr th:only-of-type {\n",
       "        vertical-align: middle;\n",
       "    }\n",
       "\n",
       "    .dataframe tbody tr th {\n",
       "        vertical-align: top;\n",
       "    }\n",
       "\n",
       "    .dataframe thead th {\n",
       "        text-align: right;\n",
       "    }\n",
       "</style>\n",
       "<table border=\"1\" class=\"dataframe\">\n",
       "  <thead>\n",
       "    <tr style=\"text-align: right;\">\n",
       "      <th></th>\n",
       "      <th>user_id</th>\n",
       "      <th>book_id</th>\n",
       "      <th>is_read</th>\n",
       "      <th>rating</th>\n",
       "      <th>is_reviewed</th>\n",
       "    </tr>\n",
       "  </thead>\n",
       "  <tbody>\n",
       "    <tr>\n",
       "      <th>0</th>\n",
       "      <td>0</td>\n",
       "      <td>948</td>\n",
       "      <td>1</td>\n",
       "      <td>5</td>\n",
       "      <td>0</td>\n",
       "    </tr>\n",
       "    <tr>\n",
       "      <th>1</th>\n",
       "      <td>0</td>\n",
       "      <td>947</td>\n",
       "      <td>1</td>\n",
       "      <td>5</td>\n",
       "      <td>1</td>\n",
       "    </tr>\n",
       "    <tr>\n",
       "      <th>2</th>\n",
       "      <td>0</td>\n",
       "      <td>946</td>\n",
       "      <td>1</td>\n",
       "      <td>5</td>\n",
       "      <td>0</td>\n",
       "    </tr>\n",
       "    <tr>\n",
       "      <th>3</th>\n",
       "      <td>0</td>\n",
       "      <td>945</td>\n",
       "      <td>1</td>\n",
       "      <td>5</td>\n",
       "      <td>0</td>\n",
       "    </tr>\n",
       "    <tr>\n",
       "      <th>4</th>\n",
       "      <td>0</td>\n",
       "      <td>944</td>\n",
       "      <td>1</td>\n",
       "      <td>5</td>\n",
       "      <td>0</td>\n",
       "    </tr>\n",
       "    <tr>\n",
       "      <th>...</th>\n",
       "      <td>...</td>\n",
       "      <td>...</td>\n",
       "      <td>...</td>\n",
       "      <td>...</td>\n",
       "      <td>...</td>\n",
       "    </tr>\n",
       "    <tr>\n",
       "      <th>228648337</th>\n",
       "      <td>876144</td>\n",
       "      <td>24772</td>\n",
       "      <td>0</td>\n",
       "      <td>0</td>\n",
       "      <td>0</td>\n",
       "    </tr>\n",
       "    <tr>\n",
       "      <th>228648338</th>\n",
       "      <td>876144</td>\n",
       "      <td>23847</td>\n",
       "      <td>1</td>\n",
       "      <td>4</td>\n",
       "      <td>0</td>\n",
       "    </tr>\n",
       "    <tr>\n",
       "      <th>228648339</th>\n",
       "      <td>876144</td>\n",
       "      <td>23950</td>\n",
       "      <td>1</td>\n",
       "      <td>3</td>\n",
       "      <td>0</td>\n",
       "    </tr>\n",
       "    <tr>\n",
       "      <th>228648340</th>\n",
       "      <td>876144</td>\n",
       "      <td>374106</td>\n",
       "      <td>1</td>\n",
       "      <td>5</td>\n",
       "      <td>1</td>\n",
       "    </tr>\n",
       "    <tr>\n",
       "      <th>228648341</th>\n",
       "      <td>876144</td>\n",
       "      <td>351607</td>\n",
       "      <td>1</td>\n",
       "      <td>5</td>\n",
       "      <td>1</td>\n",
       "    </tr>\n",
       "  </tbody>\n",
       "</table>\n",
       "<p>228648342 rows × 5 columns</p>\n",
       "</div>"
      ],
      "text/plain": [
       "           user_id  book_id  is_read  rating  is_reviewed\n",
       "0                0      948        1       5            0\n",
       "1                0      947        1       5            1\n",
       "2                0      946        1       5            0\n",
       "3                0      945        1       5            0\n",
       "4                0      944        1       5            0\n",
       "...            ...      ...      ...     ...          ...\n",
       "228648337   876144    24772        0       0            0\n",
       "228648338   876144    23847        1       4            0\n",
       "228648339   876144    23950        1       3            0\n",
       "228648340   876144   374106        1       5            1\n",
       "228648341   876144   351607        1       5            1\n",
       "\n",
       "[228648342 rows x 5 columns]"
      ]
     },
     "execution_count": 41,
     "metadata": {},
     "output_type": "execute_result"
    }
   ],
   "source": [
    "ratings_data"
   ]
  },
  {
   "cell_type": "code",
   "execution_count": 75,
   "id": "59971210",
   "metadata": {},
   "outputs": [
    {
     "name": "stderr",
     "output_type": "stream",
     "text": [
      "/Users/vineethchitturi/opt/anaconda3/envs/my36/lib/python3.6/site-packages/seaborn/categorical.py:3717: UserWarning: The `factorplot` function has been renamed to `catplot`. The original name will be removed in a future release. Please update your code. Note that the default `kind` in `factorplot` (`'point'`) has changed `'strip'` in `catplot`.\n",
      "  warnings.warn(msg)\n",
      "/Users/vineethchitturi/opt/anaconda3/envs/my36/lib/python3.6/site-packages/seaborn/_decorators.py:43: FutureWarning: Pass the following variable as a keyword arg: x. From version 0.12, the only valid positional argument will be `data`, and passing other arguments without an explicit keyword will result in an error or misinterpretation.\n",
      "  FutureWarning\n"
     ]
    },
    {
     "data": {
      "image/png": "[encoded data removed]",
      "text/plain": [
       "<Figure size 720x360 with 1 Axes>"
      ]
     },
     "metadata": {},
     "output_type": "display_data"
    }
   ],
   "source": [
    "import seaborn as sns\n",
    "with sns.axes_style('white'):\n",
    "    g = sns.factorplot(\"rating\", data=ratings_data, aspect=2.0,kind='count')\n",
    "    g.set_ylabels(\"Total number of ratings\")"
   ]
  },
  {
   "cell_type": "code",
   "execution_count": 42,
   "id": "bfcca781",
   "metadata": {},
   "outputs": [],
   "source": [
    "ratings_nonZero = ratings_data[ratings_data['rating']!=0]"
   ]
  },
  {
   "cell_type": "code",
   "execution_count": 64,
   "id": "e5732f83",
   "metadata": {},
   "outputs": [
    {
     "data": {
      "text/plain": [
       "14"
      ]
     },
     "execution_count": 64,
     "metadata": {},
     "output_type": "execute_result"
    }
   ],
   "source": [
    "ratings_nonZero['user_id'][10000]"
   ]
  },
  {
   "cell_type": "code",
   "execution_count": 65,
   "id": "f65bc81e",
   "metadata": {},
   "outputs": [
    {
     "name": "stdout",
     "output_type": "stream",
     "text": [
      "           user_id  book_id  is_read  rating  is_reviewed\n",
      "0                0      948        1       5            0\n",
      "1                0      947        1       5            1\n",
      "2                0      946        1       5            0\n",
      "3                0      945        1       5            0\n",
      "4                0      944        1       5            0\n",
      "...            ...      ...      ...     ...          ...\n",
      "228648336   876144   367428        1       3            0\n",
      "228648338   876144    23847        1       4            0\n",
      "228648339   876144    23950        1       3            0\n",
      "228648340   876144   374106        1       5            1\n",
      "228648341   876144   351607        1       5            1\n",
      "\n",
      "[104551549 rows x 5 columns]\n"
     ]
    }
   ],
   "source": [
    "print(ratings_nonZero)"
   ]
  },
  {
   "cell_type": "code",
   "execution_count": 66,
   "id": "fe360111",
   "metadata": {},
   "outputs": [],
   "source": [
    "ratings_info = ratings_nonZero"
   ]
  },
  {
   "cell_type": "code",
   "execution_count": 67,
   "id": "a90224ca",
   "metadata": {},
   "outputs": [],
   "source": [
    "ratings_info.dtypes\n",
    "data = ratings_info.astype({'rating':'float32'})"
   ]
  },
  {
   "cell_type": "code",
   "execution_count": 68,
   "id": "5a943823",
   "metadata": {},
   "outputs": [
    {
     "data": {
      "text/plain": [
       "user_id          int64\n",
       "book_id          int64\n",
       "is_read          int64\n",
       "rating         float32\n",
       "is_reviewed      int64\n",
       "dtype: object"
      ]
     },
     "execution_count": 68,
     "metadata": {},
     "output_type": "execute_result"
    }
   ],
   "source": [
    "data.dtypes"
   ]
  },
  {
   "cell_type": "code",
   "execution_count": 69,
   "id": "767db466",
   "metadata": {},
   "outputs": [],
   "source": [
    "from spotlight.interactions import Interactions\n",
    "\n",
    "dataset = Interactions(user_ids=data['user_id'].values,\n",
    "                       item_ids=data['book_id'].values,\n",
    "                       ratings=data['rating'].values)"
   ]
  },
  {
   "cell_type": "code",
   "execution_count": 70,
   "id": "32badc45",
   "metadata": {},
   "outputs": [
    {
     "name": "stdout",
     "output_type": "stream",
     "text": [
      "Epoch 0: loss 4.1048024316209295\n",
      "Epoch 1: loss 0.7531720978361021\n",
      "Epoch 2: loss 0.4493607756653735\n",
      "Epoch 3: loss 0.43558283686942956\n",
      "Epoch 4: loss 0.4322004592807645\n",
      "Epoch 5: loss 0.42319475759776526\n",
      "Epoch 6: loss 0.41207208621219726\n",
      "Epoch 7: loss 0.4061608446269789\n",
      "Epoch 8: loss 0.4022619405657682\n",
      "Epoch 9: loss 0.40103239606605917\n",
      "RMSE =  1.040621\n"
     ]
    }
   ],
   "source": [
    "from spotlight.cross_validation import random_train_test_split\n",
    "from spotlight.evaluation import rmse_score\n",
    "from spotlight.factorization.explicit import ExplicitFactorizationModel\n",
    "train, test = random_train_test_split(dataset)\n",
    "model = ExplicitFactorizationModel(n_iter=10)\n",
    "model.fit(train, verbose=True)\n",
    "rmse = rmse_score(model, test)\n",
    "print('RMSE = ', rmse)"
   ]
  },
  {
   "cell_type": "code",
   "execution_count": 71,
   "id": "00415c48",
   "metadata": {},
   "outputs": [
    {
     "name": "stdout",
     "output_type": "stream",
     "text": [
      "Epoch 0: loss 0.4013270934232137\n",
      "Epoch 1: loss 0.4012019289317836\n",
      "Epoch 2: loss 0.40064237263442154\n",
      "Epoch 3: loss 0.40124377072505746\n",
      "Epoch 4: loss 0.4020382874262157\n",
      "Epoch 5: loss 0.40336399467725137\n",
      "Epoch 6: loss 0.40431390917232535\n",
      "Epoch 7: loss 0.4066787916387569\n",
      "Epoch 8: loss 0.4064314220093491\n",
      "Epoch 9: loss 0.4083918179561142\n",
      "RMSE =  1.0512996\n"
     ]
    }
   ],
   "source": [
    "model.fit(train, verbose=True)\n",
    "rmse = rmse_score(model, test)\n",
    "print('RMSE = ', rmse)"
   ]
  },
  {
   "cell_type": "code",
   "execution_count": 72,
   "id": "11907a39",
   "metadata": {},
   "outputs": [
    {
     "name": "stdout",
     "output_type": "stream",
     "text": [
      "Epoch 0: loss 0.40822985316421156\n",
      "Epoch 1: loss 0.40859880873734417\n",
      "Epoch 2: loss 0.4097377682487246\n",
      "Epoch 3: loss 0.4126291507837182\n",
      "Epoch 4: loss 0.4126059036184715\n",
      "Epoch 5: loss 0.4110193254470215\n",
      "Epoch 6: loss 0.41355981887035165\n",
      "Epoch 7: loss 0.4127636159450216\n",
      "Epoch 8: loss 0.41514005736517584\n",
      "Epoch 9: loss 0.41599475933204305\n",
      "RMSE =  1.0610305\n"
     ]
    }
   ],
   "source": [
    "model.fit(train, verbose=True)\n",
    "rmse = rmse_score(model, test)\n",
    "print('RMSE = ', rmse)"
   ]
  }
 ],
 "metadata": {
  "kernelspec": {
   "display_name": "Python 3",
   "language": "python",
   "name": "python3"
  },
  "language_info": {
   "codemirror_mode": {
    "name": "ipython",
    "version": 3
   },
   "file_extension": ".py",
   "mimetype": "text/x-python",
   "name": "python",
   "nbconvert_exporter": "python",
   "pygments_lexer": "ipython3",
   "version": "3.6.13"
  }
 },
 "nbformat": 4,
 "nbformat_minor": 5
}
