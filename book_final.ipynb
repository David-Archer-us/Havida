{
 "cells": [
  {
   "cell_type": "code",
   "execution_count": 1,
   "id": "46f561a8",
   "metadata": {},
   "outputs": [
    {
     "data": {
      "text/plain": [
       "(228648342, 5)"
      ]
     },
     "execution_count": 1,
     "metadata": {},
     "output_type": "execute_result"
    }
   ],
   "source": [
    "# read the interactions dataset\n",
    "import pandas as pd\n",
    "ratings_raw = pd.read_csv('/data/cmpe256-sp22/013900770/project/goodreads_interactions.csv')\n",
    "ratings_raw.shape\n"
   ]
  },
  {
   "cell_type": "code",
   "execution_count": 13,
   "id": "637bf4ea",
   "metadata": {},
   "outputs": [
    {
     "name": "stdout",
     "output_type": "stream",
     "text": [
      "<class 'pandas.core.frame.DataFrame'>\n",
      "RangeIndex: 228648342 entries, 0 to 228648341\n",
      "Data columns (total 5 columns):\n",
      " #   Column       Dtype\n",
      "---  ------       -----\n",
      " 0   user_id      int64\n",
      " 1   book_id      int64\n",
      " 2   is_read      int64\n",
      " 3   rating       int64\n",
      " 4   is_reviewed  int64\n",
      "dtypes: int64(5)\n",
      "memory usage: 8.5 GB\n"
     ]
    }
   ],
   "source": [
    "# check the dataset\n",
    "ratings_raw.info()"
   ]
  },
  {
   "cell_type": "code",
   "execution_count": 14,
   "id": "ae2765f6",
   "metadata": {},
   "outputs": [
    {
     "data": {
      "text/plain": [
       "124096793"
      ]
     },
     "execution_count": 14,
     "metadata": {},
     "output_type": "execute_result"
    }
   ],
   "source": [
    "count = (ratings_raw['rating'] == 0).sum()\n",
    "count"
   ]
  },
  {
   "cell_type": "code",
   "execution_count": 15,
   "id": "36795ba8",
   "metadata": {},
   "outputs": [
    {
     "data": {
      "text/html": [
       "<div>\n",
       "<style scoped>\n",
       "    .dataframe tbody tr th:only-of-type {\n",
       "        vertical-align: middle;\n",
       "    }\n",
       "\n",
       "    .dataframe tbody tr th {\n",
       "        vertical-align: top;\n",
       "    }\n",
       "\n",
       "    .dataframe thead th {\n",
       "        text-align: right;\n",
       "    }\n",
       "</style>\n",
       "<table border=\"1\" class=\"dataframe\">\n",
       "  <thead>\n",
       "    <tr style=\"text-align: right;\">\n",
       "      <th></th>\n",
       "      <th>user_id</th>\n",
       "      <th>book_id</th>\n",
       "      <th>is_read</th>\n",
       "      <th>rating</th>\n",
       "      <th>is_reviewed</th>\n",
       "    </tr>\n",
       "  </thead>\n",
       "  <tbody>\n",
       "    <tr>\n",
       "      <th>35</th>\n",
       "      <td>0</td>\n",
       "      <td>913</td>\n",
       "      <td>0</td>\n",
       "      <td>0</td>\n",
       "      <td>1</td>\n",
       "    </tr>\n",
       "    <tr>\n",
       "      <th>37</th>\n",
       "      <td>0</td>\n",
       "      <td>911</td>\n",
       "      <td>0</td>\n",
       "      <td>0</td>\n",
       "      <td>0</td>\n",
       "    </tr>\n",
       "    <tr>\n",
       "      <th>38</th>\n",
       "      <td>0</td>\n",
       "      <td>910</td>\n",
       "      <td>0</td>\n",
       "      <td>0</td>\n",
       "      <td>1</td>\n",
       "    </tr>\n",
       "  </tbody>\n",
       "</table>\n",
       "</div>"
      ],
      "text/plain": [
       "    user_id  book_id  is_read  rating  is_reviewed\n",
       "35        0      913        0       0            1\n",
       "37        0      911        0       0            0\n",
       "38        0      910        0       0            1"
      ]
     },
     "execution_count": 15,
     "metadata": {},
     "output_type": "execute_result"
    }
   ],
   "source": [
    "zero_rows = ratings_raw[ratings_raw['rating']==0]\n",
    "zero_rows.head(3)"
   ]
  },
  {
   "cell_type": "code",
   "execution_count": 16,
   "id": "c07210ff",
   "metadata": {},
   "outputs": [],
   "source": [
    "ratings_whole = ratings_raw[ratings_raw['rating']!=0]"
   ]
  },
  {
   "cell_type": "code",
   "execution_count": 17,
   "id": "60da3a99",
   "metadata": {},
   "outputs": [],
   "source": [
    "ratings_whole.drop([\"is_read\", \"is_reviewed\"], inplace=True, axis=1)"
   ]
  },
  {
   "cell_type": "code",
   "execution_count": 18,
   "id": "71910e4d",
   "metadata": {},
   "outputs": [
    {
     "name": "stdout",
     "output_type": "stream",
     "text": [
      "<class 'pandas.core.frame.DataFrame'>\n",
      "Int64Index: 104551549 entries, 0 to 228648341\n",
      "Data columns (total 3 columns):\n",
      " #   Column   Dtype\n",
      "---  ------   -----\n",
      " 0   user_id  int64\n",
      " 1   book_id  int64\n",
      " 2   rating   int64\n",
      "dtypes: int64(3)\n",
      "memory usage: 3.1 GB\n"
     ]
    }
   ],
   "source": [
    "ratings_whole.info()"
   ]
  },
  {
   "cell_type": "code",
   "execution_count": 19,
   "id": "a59bdf8e",
   "metadata": {},
   "outputs": [
    {
     "data": {
      "text/plain": [
       "user_id    0\n",
       "book_id    0\n",
       "rating     0\n",
       "dtype: int64"
      ]
     },
     "execution_count": 19,
     "metadata": {},
     "output_type": "execute_result"
    }
   ],
   "source": [
    "ratings_whole.isnull().sum()"
   ]
  },
  {
   "cell_type": "code",
   "execution_count": 20,
   "id": "83c1b99e",
   "metadata": {},
   "outputs": [
    {
     "data": {
      "text/html": [
       "<div>\n",
       "<style scoped>\n",
       "    .dataframe tbody tr th:only-of-type {\n",
       "        vertical-align: middle;\n",
       "    }\n",
       "\n",
       "    .dataframe tbody tr th {\n",
       "        vertical-align: top;\n",
       "    }\n",
       "\n",
       "    .dataframe thead th {\n",
       "        text-align: right;\n",
       "    }\n",
       "</style>\n",
       "<table border=\"1\" class=\"dataframe\">\n",
       "  <thead>\n",
       "    <tr style=\"text-align: right;\">\n",
       "      <th></th>\n",
       "      <th>user_id</th>\n",
       "      <th>book_id</th>\n",
       "      <th>rating</th>\n",
       "    </tr>\n",
       "  </thead>\n",
       "  <tbody>\n",
       "    <tr>\n",
       "      <th>0</th>\n",
       "      <td>0</td>\n",
       "      <td>948</td>\n",
       "      <td>5</td>\n",
       "    </tr>\n",
       "    <tr>\n",
       "      <th>1</th>\n",
       "      <td>0</td>\n",
       "      <td>947</td>\n",
       "      <td>5</td>\n",
       "    </tr>\n",
       "    <tr>\n",
       "      <th>2</th>\n",
       "      <td>0</td>\n",
       "      <td>946</td>\n",
       "      <td>5</td>\n",
       "    </tr>\n",
       "  </tbody>\n",
       "</table>\n",
       "</div>"
      ],
      "text/plain": [
       "   user_id  book_id  rating\n",
       "0        0      948       5\n",
       "1        0      947       5\n",
       "2        0      946       5"
      ]
     },
     "execution_count": 20,
     "metadata": {},
     "output_type": "execute_result"
    }
   ],
   "source": [
    "ratings_whole.head(3)"
   ]
  },
  {
   "cell_type": "code",
   "execution_count": 5,
   "id": "dc141d95",
   "metadata": {},
   "outputs": [
    {
     "data": {
      "text/plain": [
       "(876145, 2360650)"
      ]
     },
     "execution_count": 5,
     "metadata": {},
     "output_type": "execute_result"
    }
   ],
   "source": [
    "\n",
    "n_user_whole = ratings_whole.user_id.unique().shape[0]\n",
    "n_book_whole = ratings_whole.book_id.unique().shape[0]\n",
    "n_user_whole, n_book_whole"
   ]
  },
  {
   "cell_type": "code",
   "execution_count": 22,
   "id": "b1345d15",
   "metadata": {},
   "outputs": [],
   "source": [
    "# sample the datase 1/1000\n",
    "                                            \n",
    "ratings_1000th = ratings_whole.iloc[[x for x in range(ratings_whole.shape[0]) if x%999==0]]\n"
   ]
  },
  {
   "cell_type": "code",
   "execution_count": 23,
   "id": "5a9492c8",
   "metadata": {},
   "outputs": [
    {
     "name": "stdout",
     "output_type": "stream",
     "text": [
      "<class 'pandas.core.frame.DataFrame'>\n",
      "Int64Index: 104657 entries, 0 to 228647995\n",
      "Data columns (total 3 columns):\n",
      " #   Column   Non-Null Count   Dtype\n",
      "---  ------   --------------   -----\n",
      " 0   user_id  104657 non-null  int64\n",
      " 1   book_id  104657 non-null  int64\n",
      " 2   rating   104657 non-null  int64\n",
      "dtypes: int64(3)\n",
      "memory usage: 3.2 MB\n"
     ]
    }
   ],
   "source": [
    "ratings_1000th.info()"
   ]
  },
  {
   "cell_type": "code",
   "execution_count": 24,
   "id": "251fcf5c",
   "metadata": {},
   "outputs": [
    {
     "data": {
      "text/html": [
       "<div>\n",
       "<style scoped>\n",
       "    .dataframe tbody tr th:only-of-type {\n",
       "        vertical-align: middle;\n",
       "    }\n",
       "\n",
       "    .dataframe tbody tr th {\n",
       "        vertical-align: top;\n",
       "    }\n",
       "\n",
       "    .dataframe thead th {\n",
       "        text-align: right;\n",
       "    }\n",
       "</style>\n",
       "<table border=\"1\" class=\"dataframe\">\n",
       "  <thead>\n",
       "    <tr style=\"text-align: right;\">\n",
       "      <th></th>\n",
       "      <th>user_id</th>\n",
       "      <th>book_id</th>\n",
       "      <th>rating</th>\n",
       "    </tr>\n",
       "  </thead>\n",
       "  <tbody>\n",
       "    <tr>\n",
       "      <th>0</th>\n",
       "      <td>0</td>\n",
       "      <td>948</td>\n",
       "      <td>5</td>\n",
       "    </tr>\n",
       "    <tr>\n",
       "      <th>1809</th>\n",
       "      <td>5</td>\n",
       "      <td>7052</td>\n",
       "      <td>3</td>\n",
       "    </tr>\n",
       "    <tr>\n",
       "      <th>8269</th>\n",
       "      <td>11</td>\n",
       "      <td>1528</td>\n",
       "      <td>3</td>\n",
       "    </tr>\n",
       "  </tbody>\n",
       "</table>\n",
       "</div>"
      ],
      "text/plain": [
       "      user_id  book_id  rating\n",
       "0           0      948       5\n",
       "1809        5     7052       3\n",
       "8269       11     1528       3"
      ]
     },
     "execution_count": 24,
     "metadata": {},
     "output_type": "execute_result"
    }
   ],
   "source": [
    "ratings_1000th.head(3)"
   ]
  },
  {
   "cell_type": "code",
   "execution_count": 9,
   "id": "394b3d1a",
   "metadata": {},
   "outputs": [
    {
     "data": {
      "text/plain": [
       "(181862, 114043)"
      ]
     },
     "execution_count": 9,
     "metadata": {},
     "output_type": "execute_result"
    }
   ],
   "source": [
    "n_user_1000th = ratings_1000th.user_id.unique().shape[0]\n",
    "n_book_1000th = ratings_1000th.book_id.unique().shape[0]\n",
    "n_user_1000th, n_book_1000th"
   ]
  },
  {
   "cell_type": "code",
   "execution_count": 34,
   "id": "01d1c0c2",
   "metadata": {},
   "outputs": [],
   "source": [
    "#using the surprise library\n",
    "\n",
    "from surprise import Reader, Dataset, accuracy\n",
    "from surprise import SVD, SVDpp, SlopeOne, NMF, NormalPredictor, KNNBaseline, KNNBasic, KNNWithMeans, KNNWithZScore\n",
    "from surprise.model_selection import cross_validate, GridSearchCV, KFold\n"
   ]
  },
  {
   "cell_type": "code",
   "execution_count": 26,
   "id": "9cb94517",
   "metadata": {},
   "outputs": [],
   "source": [
    "reader = Reader(rating_scale=(1.0, 5.0))\n",
    "data_1000th = Dataset.load_from_df(ratings_1000th[['user_id', 'book_id', 'rating']], reader)\n"
   ]
  },
  {
   "cell_type": "code",
   "execution_count": 35,
   "id": "c8c8fcd3",
   "metadata": {},
   "outputs": [
    {
     "name": "stdout",
     "output_type": "stream",
     "text": [
      "Evaluating RMSE of algorithm SVD on 3 split(s).\n",
      "\n",
      "                  Fold 1  Fold 2  Fold 3  Mean    Std     \n",
      "RMSE (testset)    0.9773  0.9715  0.9809  0.9765  0.0039  \n",
      "Fit time          4.29    4.31    4.00    4.20    0.14    \n",
      "Test time         0.22    0.24    0.22    0.23    0.01    \n",
      "Evaluating RMSE of algorithm SVDpp on 3 split(s).\n",
      "\n",
      "                  Fold 1  Fold 2  Fold 3  Mean    Std     \n",
      "RMSE (testset)    0.9780  0.9718  0.9810  0.9769  0.0038  \n",
      "Fit time          7.22    7.91    7.23    7.45    0.32    \n",
      "Test time         0.24    0.24    0.25    0.24    0.00    \n",
      "Evaluating RMSE of algorithm SlopeOne on 3 split(s).\n",
      "\n",
      "                  Fold 1  Fold 2  Fold 3  Mean    Std     \n",
      "RMSE (testset)    0.9947  0.9885  0.9962  0.9931  0.0033  \n",
      "Fit time          40.97   41.89   38.81   40.55   1.29    \n",
      "Test time         0.21    0.25    0.23    0.23    0.02    \n",
      "Evaluating RMSE of algorithm NormalPredictor on 3 split(s).\n",
      "\n",
      "                  Fold 1  Fold 2  Fold 3  Mean    Std     \n",
      "RMSE (testset)    1.3238  1.3191  1.3138  1.3189  0.0041  \n",
      "Fit time          0.07    0.08    0.07    0.07    0.00    \n",
      "Test time         0.29    0.36    0.30    0.31    0.03    \n",
      "Evaluating RMSE of algorithm NMF on 3 split(s).\n",
      "\n",
      "                  Fold 1  Fold 2  Fold 3  Mean    Std     \n",
      "RMSE (testset)    1.0006  0.9950  1.0004  0.9987  0.0026  \n",
      "Fit time          12.54   11.43   11.03   11.67   0.64    \n",
      "Test time         0.20    0.20    0.21    0.20    0.01    \n",
      "Evaluating RMSE of algorithm KNNBaseline on 3 split(s).\n",
      "\n",
      "                  Fold 1  Fold 2  Fold 3  Mean    Std     \n",
      "RMSE (testset)    0.9776  0.9716  0.9809  0.9767  0.0038  \n",
      "Fit time          144.81  137.13  126.62  136.19  7.46    \n",
      "Test time         0.26    0.23    0.21    0.23    0.02    \n",
      "Evaluating RMSE of algorithm KNNBasic on 3 split(s).\n",
      "\n",
      "                  Fold 1  Fold 2  Fold 3  Mean    Std     \n",
      "RMSE (testset)    0.9897  0.9830  0.9917  0.9881  0.0037  \n",
      "Fit time          142.05  143.19  126.26  137.17  7.73    \n",
      "Test time         0.21    0.20    0.23    0.21    0.01    \n",
      "Estimating biases using als...\n",
      "Computing the msd similarity matrix...\n",
      "Done computing similarity matrix.\n",
      "Evaluating RMSE of algorithm KNNWithMeans on 3 split(s).\n",
      "\n",
      "                  Fold 1  Fold 2  Fold 3  Mean    Std     \n",
      "RMSE (testset)    0.9947  0.9885  0.9962  0.9931  0.0033  \n",
      "Fit time          136.53  144.81  128.15  136.50  6.80    \n",
      "Test time         0.24    0.25    0.23    0.24    0.01    \n",
      "Estimating biases using als...\n",
      "Computing the msd similarity matrix...\n",
      "Done computing similarity matrix.\n",
      "Computing the msd similarity matrix...\n",
      "Done computing similarity matrix.\n",
      "Evaluating RMSE of algorithm KNNWithZScore on 3 split(s).\n",
      "\n",
      "                  Fold 1  Fold 2  Fold 3  Mean    Std     \n",
      "RMSE (testset)    0.9947  0.9885  0.9962  0.9931  0.0033  \n",
      "Fit time          144.26  146.28  129.51  140.02  7.47    \n",
      "Test time         0.25    0.27    0.26    0.26    0.01    \n"
     ]
    },
    {
     "data": {
      "text/html": [
       "<div>\n",
       "<style scoped>\n",
       "    .dataframe tbody tr th:only-of-type {\n",
       "        vertical-align: middle;\n",
       "    }\n",
       "\n",
       "    .dataframe tbody tr th {\n",
       "        vertical-align: top;\n",
       "    }\n",
       "\n",
       "    .dataframe thead th {\n",
       "        text-align: right;\n",
       "    }\n",
       "</style>\n",
       "<table border=\"1\" class=\"dataframe\">\n",
       "  <thead>\n",
       "    <tr style=\"text-align: right;\">\n",
       "      <th></th>\n",
       "      <th>test_rmse</th>\n",
       "      <th>fit_time</th>\n",
       "      <th>test_time</th>\n",
       "    </tr>\n",
       "    <tr>\n",
       "      <th>Algorithm</th>\n",
       "      <th></th>\n",
       "      <th></th>\n",
       "      <th></th>\n",
       "    </tr>\n",
       "  </thead>\n",
       "  <tbody>\n",
       "    <tr>\n",
       "      <th>SVD</th>\n",
       "      <td>0.976542</td>\n",
       "      <td>4.200119</td>\n",
       "      <td>0.228878</td>\n",
       "    </tr>\n",
       "    <tr>\n",
       "      <th>KNNBaseline</th>\n",
       "      <td>0.976702</td>\n",
       "      <td>136.187085</td>\n",
       "      <td>0.234494</td>\n",
       "    </tr>\n",
       "    <tr>\n",
       "      <th>SVDpp</th>\n",
       "      <td>0.976941</td>\n",
       "      <td>7.452104</td>\n",
       "      <td>0.243214</td>\n",
       "    </tr>\n",
       "    <tr>\n",
       "      <th>KNNBasic</th>\n",
       "      <td>0.988136</td>\n",
       "      <td>137.168154</td>\n",
       "      <td>0.212898</td>\n",
       "    </tr>\n",
       "    <tr>\n",
       "      <th>SlopeOne</th>\n",
       "      <td>0.993134</td>\n",
       "      <td>40.554932</td>\n",
       "      <td>0.229957</td>\n",
       "    </tr>\n",
       "    <tr>\n",
       "      <th>KNNWithMeans</th>\n",
       "      <td>0.993134</td>\n",
       "      <td>136.498292</td>\n",
       "      <td>0.241831</td>\n",
       "    </tr>\n",
       "    <tr>\n",
       "      <th>KNNWithZScore</th>\n",
       "      <td>0.993134</td>\n",
       "      <td>140.016710</td>\n",
       "      <td>0.260980</td>\n",
       "    </tr>\n",
       "    <tr>\n",
       "      <th>NMF</th>\n",
       "      <td>0.998656</td>\n",
       "      <td>11.667029</td>\n",
       "      <td>0.202944</td>\n",
       "    </tr>\n",
       "    <tr>\n",
       "      <th>NormalPredictor</th>\n",
       "      <td>1.318902</td>\n",
       "      <td>0.074932</td>\n",
       "      <td>0.314370</td>\n",
       "    </tr>\n",
       "  </tbody>\n",
       "</table>\n",
       "</div>"
      ],
      "text/plain": [
       "                 test_rmse    fit_time  test_time\n",
       "Algorithm                                        \n",
       "SVD               0.976542    4.200119   0.228878\n",
       "KNNBaseline       0.976702  136.187085   0.234494\n",
       "SVDpp             0.976941    7.452104   0.243214\n",
       "KNNBasic          0.988136  137.168154   0.212898\n",
       "SlopeOne          0.993134   40.554932   0.229957\n",
       "KNNWithMeans      0.993134  136.498292   0.241831\n",
       "KNNWithZScore     0.993134  140.016710   0.260980\n",
       "NMF               0.998656   11.667029   0.202944\n",
       "NormalPredictor   1.318902    0.074932   0.314370"
      ]
     },
     "execution_count": 35,
     "metadata": {},
     "output_type": "execute_result"
    },
    {
     "name": "stdout",
     "output_type": "stream",
     "text": [
      "Computing the msd similarity matrix...\n",
      "Done computing similarity matrix.\n",
      "Computing the msd similarity matrix...\n",
      "Done computing similarity matrix.\n"
     ]
    }
   ],
   "source": [
    "# find the best algorithms\n",
    "\n",
    "benchmark_1000th = []\n",
    "for algorithm in [SVD(), SVDpp(), SlopeOne(), NormalPredictor(), NMF(), KNNBaseline(), KNNBasic(), KNNWithMeans(), KNNWithZScore()]:\n",
    "    results = cross_validate(algorithm, data_1000th, measures=['RMSE'], cv=KFold(3, random_state=2, shuffle=True), verbose=True, n_jobs=-1)\n",
    "    tmp = pd.DataFrame.from_dict(results).mean(axis=0)\n",
    "    tmp['Algorithm'] = str(algorithm).split(' ')[0].split('.')[-1]\n",
    "    benchmark_1000th.append(tmp)\n",
    "    \n",
    "pd.DataFrame(benchmark_1000th).set_index('Algorithm').sort_values('test_rmse')\n"
   ]
  },
  {
   "cell_type": "code",
   "execution_count": null,
   "id": "95d52840",
   "metadata": {},
   "outputs": [],
   "source": [
    "# Among best three: SVD, KNNBaseline, & SVDpp, \n",
    "# we'll choose SVD for the least time consuming and best rmse"
   ]
  },
  {
   "cell_type": "code",
   "execution_count": 44,
   "id": "16bb67ce",
   "metadata": {},
   "outputs": [],
   "source": [
    "# find the best params for SVD \n",
    "\n",
    "param_grid = {'n_epochs': [20,25,30], 'n_factors': [5,10,15],\n",
    "             'lr_all': [0.003,0.004,0.005], 'reg_all': [0.13,0.14,0.15]}\n",
    "gs1 = GridSearchCV(SVD, param_grid, measures=['rmse'], cv=KFold(3, random_state=2, shuffle=True), n_jobs=-1)\n",
    "gs1.fit(data_1000th)\n"
   ]
  },
  {
   "cell_type": "code",
   "execution_count": 45,
   "id": "1b44a22d",
   "metadata": {},
   "outputs": [
    {
     "name": "stdout",
     "output_type": "stream",
     "text": [
      "0.9764644996078665\n",
      "{'n_epochs': 25, 'n_factors': 10, 'lr_all': 0.004, 'reg_all': 0.14}\n"
     ]
    }
   ],
   "source": [
    "print(gs1.best_score['rmse'])\n",
    "print(gs1.best_params['rmse'])"
   ]
  },
  {
   "cell_type": "code",
   "execution_count": 46,
   "id": "e3e01ab9",
   "metadata": {},
   "outputs": [
    {
     "data": {
      "text/plain": [
       "<surprise.prediction_algorithms.matrix_factorization.SVD at 0x7fa443a23460>"
      ]
     },
     "execution_count": 46,
     "metadata": {},
     "output_type": "execute_result"
    }
   ],
   "source": [
    "# The best params are sitting in the center of the grid\n",
    "# we'll take these pramas as the best combination\n",
    "# try to build a SVD model on the sample dataset\n",
    "\n",
    "trainset_1000th = data_1000th.build_full_trainset()\n",
    "svd_1000th = gs1.best_estimator['rmse']\n",
    "svd_1000th.fit(trainset_1000th)"
   ]
  },
  {
   "cell_type": "code",
   "execution_count": 47,
   "id": "821728d8",
   "metadata": {},
   "outputs": [
    {
     "data": {
      "text/plain": [
       "3.9398415777253315"
      ]
     },
     "execution_count": 47,
     "metadata": {},
     "output_type": "execute_result"
    }
   ],
   "source": [
    "# try to predict \n",
    "svd_1000th.predict(3, 5).est"
   ]
  },
  {
   "cell_type": "code",
   "execution_count": 48,
   "id": "42a26b7a",
   "metadata": {},
   "outputs": [
    {
     "data": {
      "text/plain": [
       "['svd_1000th_trained_joblib']"
      ]
     },
     "execution_count": 48,
     "metadata": {},
     "output_type": "execute_result"
    }
   ],
   "source": [
    "# save the trained SVD model\n",
    "\n",
    "import joblib\n",
    "joblib.dump(svd_1000th, 'svd_1000th_trained_joblib')"
   ]
  },
  {
   "cell_type": "code",
   "execution_count": 3,
   "id": "7ac5ae66",
   "metadata": {},
   "outputs": [],
   "source": [
    "# import joblib\n",
    "# svd_1000th = joblib.load('old/svd_1000th_trained_joblib')"
   ]
  },
  {
   "cell_type": "code",
   "execution_count": 49,
   "id": "9d9713e7",
   "metadata": {},
   "outputs": [
    {
     "name": "stdout",
     "output_type": "stream",
     "text": [
      "Computing the msd similarity matrix...\n",
      "Done computing similarity matrix.\n",
      "Computing the msd similarity matrix...\n",
      "Done computing similarity matrix.\n",
      "Computing the msd similarity matrix...\n",
      "Done computing similarity matrix.\n",
      "Estimating biases using als...\n",
      "Computing the msd similarity matrix...\n",
      "Done computing similarity matrix.\n",
      "Computing the msd similarity matrix...\n",
      "Done computing similarity matrix.\n",
      "Computing the msd similarity matrix...\n",
      "Done computing similarity matrix.\n",
      "Computing the msd similarity matrix...\n",
      "Done computing similarity matrix.\n"
     ]
    },
    {
     "data": {
      "text/plain": [
       "<surprise.prediction_algorithms.matrix_factorization.SVD at 0x7fa443a23460>"
      ]
     },
     "execution_count": 49,
     "metadata": {},
     "output_type": "execute_result"
    }
   ],
   "source": [
    "# try to build a SVD model on the whole dataset\n",
    "\n",
    "data_whole = Dataset.load_from_df(ratings_whole[['user_id', 'book_id', 'rating']], reader)\n",
    "trainset_whole = data_whole.build_full_trainset()\n",
    "svd_whole = gs1.best_estimator['rmse']\n",
    "svd_whole.fit(trainset_whole)"
   ]
  },
  {
   "cell_type": "code",
   "execution_count": 50,
   "id": "fb9ed663",
   "metadata": {},
   "outputs": [
    {
     "data": {
      "text/plain": [
       "3.6066059410253977"
      ]
     },
     "execution_count": 50,
     "metadata": {},
     "output_type": "execute_result"
    }
   ],
   "source": [
    "# try to predict \n",
    "svd_whole.predict(3, 5).est"
   ]
  },
  {
   "cell_type": "code",
   "execution_count": 51,
   "id": "02935922",
   "metadata": {},
   "outputs": [
    {
     "data": {
      "text/plain": [
       "['svd_whole_trained_joblib']"
      ]
     },
     "execution_count": 51,
     "metadata": {},
     "output_type": "execute_result"
    }
   ],
   "source": [
    "# save the trained SVD model\n",
    "\n",
    "import joblib\n",
    "joblib.dump(svd_whole, 'svd_whole_trained_joblib')"
   ]
  },
  {
   "cell_type": "code",
   "execution_count": 1,
   "id": "f4ff8792",
   "metadata": {},
   "outputs": [],
   "source": [
    "# import joblib \n",
    "# svd_whole = joblib.load('svd_whole_trained_joblib')"
   ]
  },
  {
   "cell_type": "code",
   "execution_count": null,
   "id": "3c68d024",
   "metadata": {},
   "outputs": [],
   "source": []
  },
  {
   "cell_type": "code",
   "execution_count": null,
   "id": "9dcdc034",
   "metadata": {},
   "outputs": [],
   "source": [
    "# read the book data and user data"
   ]
  },
  {
   "cell_type": "code",
   "execution_count": 4,
   "id": "a49c7107",
   "metadata": {},
   "outputs": [
    {
     "data": {
      "text/html": [
       "<div>\n",
       "<style scoped>\n",
       "    .dataframe tbody tr th:only-of-type {\n",
       "        vertical-align: middle;\n",
       "    }\n",
       "\n",
       "    .dataframe tbody tr th {\n",
       "        vertical-align: top;\n",
       "    }\n",
       "\n",
       "    .dataframe thead th {\n",
       "        text-align: right;\n",
       "    }\n",
       "</style>\n",
       "<table border=\"1\" class=\"dataframe\">\n",
       "  <thead>\n",
       "    <tr style=\"text-align: right;\">\n",
       "      <th></th>\n",
       "      <th>isbn</th>\n",
       "      <th>text_reviews_count</th>\n",
       "      <th>series</th>\n",
       "      <th>country_code</th>\n",
       "      <th>language_code</th>\n",
       "      <th>popular_shelves</th>\n",
       "      <th>asin</th>\n",
       "      <th>is_ebook</th>\n",
       "      <th>average_rating</th>\n",
       "      <th>kindle_asin</th>\n",
       "      <th>...</th>\n",
       "      <th>publication_month</th>\n",
       "      <th>edition_information</th>\n",
       "      <th>publication_year</th>\n",
       "      <th>url</th>\n",
       "      <th>image_url</th>\n",
       "      <th>book_id</th>\n",
       "      <th>ratings_count</th>\n",
       "      <th>work_id</th>\n",
       "      <th>title</th>\n",
       "      <th>title_without_series</th>\n",
       "    </tr>\n",
       "  </thead>\n",
       "  <tbody>\n",
       "    <tr>\n",
       "      <th>0</th>\n",
       "      <td>0312853122</td>\n",
       "      <td>1</td>\n",
       "      <td>[]</td>\n",
       "      <td>US</td>\n",
       "      <td></td>\n",
       "      <td>[{'count': '3', 'name': 'to-read'}, {'count': ...</td>\n",
       "      <td></td>\n",
       "      <td>false</td>\n",
       "      <td>4.00</td>\n",
       "      <td></td>\n",
       "      <td>...</td>\n",
       "      <td>9</td>\n",
       "      <td></td>\n",
       "      <td>1984</td>\n",
       "      <td>https://www.goodreads.com/book/show/5333265-w-...</td>\n",
       "      <td>https://images.gr-assets.com/books/1310220028m...</td>\n",
       "      <td>5333265</td>\n",
       "      <td>3</td>\n",
       "      <td>5400751</td>\n",
       "      <td>W.C. Fields: A Life on Film</td>\n",
       "      <td>W.C. Fields: A Life on Film</td>\n",
       "    </tr>\n",
       "    <tr>\n",
       "      <th>1</th>\n",
       "      <td>0743509986</td>\n",
       "      <td>6</td>\n",
       "      <td>[]</td>\n",
       "      <td>US</td>\n",
       "      <td></td>\n",
       "      <td>[{'count': '2634', 'name': 'to-read'}, {'count...</td>\n",
       "      <td></td>\n",
       "      <td>false</td>\n",
       "      <td>3.23</td>\n",
       "      <td>B000FC0PBC</td>\n",
       "      <td>...</td>\n",
       "      <td>10</td>\n",
       "      <td>Abridged</td>\n",
       "      <td>2001</td>\n",
       "      <td>https://www.goodreads.com/book/show/1333909.Go...</td>\n",
       "      <td>https://s.gr-assets.com/assets/nophoto/book/11...</td>\n",
       "      <td>1333909</td>\n",
       "      <td>10</td>\n",
       "      <td>1323437</td>\n",
       "      <td>Good Harbor</td>\n",
       "      <td>Good Harbor</td>\n",
       "    </tr>\n",
       "    <tr>\n",
       "      <th>2</th>\n",
       "      <td></td>\n",
       "      <td>7</td>\n",
       "      <td>[189911]</td>\n",
       "      <td>US</td>\n",
       "      <td>eng</td>\n",
       "      <td>[{'count': '58', 'name': 'to-read'}, {'count':...</td>\n",
       "      <td>B00071IKUY</td>\n",
       "      <td>false</td>\n",
       "      <td>4.03</td>\n",
       "      <td></td>\n",
       "      <td>...</td>\n",
       "      <td></td>\n",
       "      <td>Book Club Edition</td>\n",
       "      <td>1987</td>\n",
       "      <td>https://www.goodreads.com/book/show/7327624-th...</td>\n",
       "      <td>https://images.gr-assets.com/books/1304100136m...</td>\n",
       "      <td>7327624</td>\n",
       "      <td>140</td>\n",
       "      <td>8948723</td>\n",
       "      <td>The Unschooled Wizard (Sun Wolf and Starhawk, ...</td>\n",
       "      <td>The Unschooled Wizard (Sun Wolf and Starhawk, ...</td>\n",
       "    </tr>\n",
       "  </tbody>\n",
       "</table>\n",
       "<p>3 rows × 29 columns</p>\n",
       "</div>"
      ],
      "text/plain": [
       "         isbn text_reviews_count    series country_code language_code  \\\n",
       "0  0312853122                  1        []           US                 \n",
       "1  0743509986                  6        []           US                 \n",
       "2                              7  [189911]           US           eng   \n",
       "\n",
       "                                     popular_shelves        asin is_ebook  \\\n",
       "0  [{'count': '3', 'name': 'to-read'}, {'count': ...                false   \n",
       "1  [{'count': '2634', 'name': 'to-read'}, {'count...                false   \n",
       "2  [{'count': '58', 'name': 'to-read'}, {'count':...  B00071IKUY    false   \n",
       "\n",
       "  average_rating kindle_asin  ... publication_month edition_information  \\\n",
       "0           4.00              ...                 9                       \n",
       "1           3.23  B000FC0PBC  ...                10            Abridged   \n",
       "2           4.03              ...                     Book Club Edition   \n",
       "\n",
       "  publication_year                                                url  \\\n",
       "0             1984  https://www.goodreads.com/book/show/5333265-w-...   \n",
       "1             2001  https://www.goodreads.com/book/show/1333909.Go...   \n",
       "2             1987  https://www.goodreads.com/book/show/7327624-th...   \n",
       "\n",
       "                                           image_url  book_id ratings_count  \\\n",
       "0  https://images.gr-assets.com/books/1310220028m...  5333265             3   \n",
       "1  https://s.gr-assets.com/assets/nophoto/book/11...  1333909            10   \n",
       "2  https://images.gr-assets.com/books/1304100136m...  7327624           140   \n",
       "\n",
       "   work_id                                              title  \\\n",
       "0  5400751                        W.C. Fields: A Life on Film   \n",
       "1  1323437                                        Good Harbor   \n",
       "2  8948723  The Unschooled Wizard (Sun Wolf and Starhawk, ...   \n",
       "\n",
       "                                title_without_series  \n",
       "0                        W.C. Fields: A Life on Film  \n",
       "1                                        Good Harbor  \n",
       "2  The Unschooled Wizard (Sun Wolf and Starhawk, ...  \n",
       "\n",
       "[3 rows x 29 columns]"
      ]
     },
     "execution_count": 4,
     "metadata": {},
     "output_type": "execute_result"
    }
   ],
   "source": [
    "import pandas as pd\n",
    "import json\n",
    "\n",
    "metadata = pd.read_json('/data/cmpe256-sp22/013900770/project/goodreads_books.json', lines=True)\n",
    "metadata.head(3)\n"
   ]
  },
  {
   "cell_type": "code",
   "execution_count": 5,
   "id": "78a3890f",
   "metadata": {},
   "outputs": [
    {
     "data": {
      "text/html": [
       "<div>\n",
       "<style scoped>\n",
       "    .dataframe tbody tr th:only-of-type {\n",
       "        vertical-align: middle;\n",
       "    }\n",
       "\n",
       "    .dataframe tbody tr th {\n",
       "        vertical-align: top;\n",
       "    }\n",
       "\n",
       "    .dataframe thead th {\n",
       "        text-align: right;\n",
       "    }\n",
       "</style>\n",
       "<table border=\"1\" class=\"dataframe\">\n",
       "  <thead>\n",
       "    <tr style=\"text-align: right;\">\n",
       "      <th></th>\n",
       "      <th>user_id_csv</th>\n",
       "      <th>user_id</th>\n",
       "    </tr>\n",
       "  </thead>\n",
       "  <tbody>\n",
       "    <tr>\n",
       "      <th>0</th>\n",
       "      <td>0</td>\n",
       "      <td>8842281e1d1347389f2ab93d60773d4d</td>\n",
       "    </tr>\n",
       "    <tr>\n",
       "      <th>1</th>\n",
       "      <td>1</td>\n",
       "      <td>72fb0d0087d28c832f15776b0d936598</td>\n",
       "    </tr>\n",
       "    <tr>\n",
       "      <th>2</th>\n",
       "      <td>2</td>\n",
       "      <td>ab2923b738ea3082f5f3efcbbfacb218</td>\n",
       "    </tr>\n",
       "  </tbody>\n",
       "</table>\n",
       "</div>"
      ],
      "text/plain": [
       "   user_id_csv                           user_id\n",
       "0            0  8842281e1d1347389f2ab93d60773d4d\n",
       "1            1  72fb0d0087d28c832f15776b0d936598\n",
       "2            2  ab2923b738ea3082f5f3efcbbfacb218"
      ]
     },
     "execution_count": 5,
     "metadata": {},
     "output_type": "execute_result"
    }
   ],
   "source": [
    "user_map = pd.read_csv('/data/cmpe256-sp22/013900770/project/user_id_map.csv')\n",
    "user_map.head(3)\n"
   ]
  },
  {
   "cell_type": "code",
   "execution_count": 6,
   "id": "b8df6c10",
   "metadata": {},
   "outputs": [
    {
     "data": {
      "text/html": [
       "<div>\n",
       "<style scoped>\n",
       "    .dataframe tbody tr th:only-of-type {\n",
       "        vertical-align: middle;\n",
       "    }\n",
       "\n",
       "    .dataframe tbody tr th {\n",
       "        vertical-align: top;\n",
       "    }\n",
       "\n",
       "    .dataframe thead th {\n",
       "        text-align: right;\n",
       "    }\n",
       "</style>\n",
       "<table border=\"1\" class=\"dataframe\">\n",
       "  <thead>\n",
       "    <tr style=\"text-align: right;\">\n",
       "      <th></th>\n",
       "      <th>book_id_csv</th>\n",
       "      <th>book_id</th>\n",
       "    </tr>\n",
       "  </thead>\n",
       "  <tbody>\n",
       "    <tr>\n",
       "      <th>0</th>\n",
       "      <td>0</td>\n",
       "      <td>34684622</td>\n",
       "    </tr>\n",
       "    <tr>\n",
       "      <th>1</th>\n",
       "      <td>1</td>\n",
       "      <td>34536488</td>\n",
       "    </tr>\n",
       "    <tr>\n",
       "      <th>2</th>\n",
       "      <td>2</td>\n",
       "      <td>34017076</td>\n",
       "    </tr>\n",
       "  </tbody>\n",
       "</table>\n",
       "</div>"
      ],
      "text/plain": [
       "   book_id_csv   book_id\n",
       "0            0  34684622\n",
       "1            1  34536488\n",
       "2            2  34017076"
      ]
     },
     "execution_count": 6,
     "metadata": {},
     "output_type": "execute_result"
    }
   ],
   "source": [
    "book_map =pd.read_csv('/data/cmpe256-sp22/013900770/project/book_id_map.csv')\n",
    "book_map.head(3)\n"
   ]
  },
  {
   "cell_type": "code",
   "execution_count": null,
   "id": "179d1835",
   "metadata": {},
   "outputs": [],
   "source": []
  },
  {
   "cell_type": "code",
   "execution_count": 52,
   "id": "e3266d46",
   "metadata": {},
   "outputs": [],
   "source": [
    "# recommendation based on user, title, genre\n",
    "\n",
    "import difflib\n",
    "import random\n",
    "\n",
    "def get_user_mapped_id(user_id, user_map):\n",
    "    user_ids = list(user_map['user_id'].values)\n",
    "    return user_ids.index(user_id)\n",
    "\n",
    "def get_book_info(book_id, metadata):\n",
    "    book_info = metadata[metadata['book_id'] == book_id][['book_id', 'isbn', 'authors', 'title', 'average_rating']]\n",
    "    return book_info.to_dict(orient='records')\n",
    "\n",
    "def is_in_genre(book_id, genre):\n",
    "    shelf = metadata[metadata['book_id']==book_id].values.tolist()[0][5]\n",
    "    for dic in shelf:\n",
    "        if dic['name'] == genre: return True\n",
    "    return False\n",
    "\n",
    "def generate_recommendation(user_id, title, model, genre, thresh=4):\n",
    "    if user_id == None: return \"Please provide your user_id\"\n",
    "    user_mapped_id = get_user_mapped_id(user_id, user_map)\n",
    "    read_books = ratings_raw[ratings_raw['is_read']== 1]\n",
    "    read_books = read_books[read_books['user_id']== user_mapped_id]\n",
    "    read_books = list(read_books['book_id'].values)     \n",
    "    \n",
    "    book_ids = list(book_map['book_id'].values)\n",
    "    if title:  \n",
    "        titles = list(metadata['title'].values)\n",
    "        random.shuffle(titles)\n",
    "        closest_titles = difflib.get_close_matches(title, titles)\n",
    "\n",
    "        for t in closest_titles:\n",
    "            book_id = metadata[metadata['title'] == t]['book_id'].values[0]\n",
    "            book_mapped_id = book_ids.index(book_id)\n",
    "            rating = model.predict(user_mapped_id, book_mapped_id).est\n",
    "            if rating >= thresh:\n",
    "                if genre:\n",
    "                    if is_in_genre(book_id, genre):\n",
    "                        if book_mapped_id not in read_books:\n",
    "                            return get_book_info(book_id, metadata)\n",
    "                else:\n",
    "                    return get_book_info(book_id, metadata)\n",
    "        return \"All books with this title will be rated by you below the threshold\"\n",
    "    else:\n",
    "        if genre:\n",
    "            random.shuffle(book_ids)\n",
    "            for book_id in book_ids:\n",
    "                if is_in_genre(book_id, genre):\n",
    "                    book_mapped_id = book_ids.index(book_id)\n",
    "                    rating = model.predict(user_mapped_id, book_mapped_id).est\n",
    "                    if rating >= thresh: \n",
    "                        if book_mapped_id not in read_books:\n",
    "                            return get_book_info(book_id, metadata)\n",
    "            return \"All books in this genre will be rated by you below the threshold\"\n",
    "        else:\n",
    "            return \"Please provide title and/or genre\"\n",
    "                \n",
    "                "
   ]
  },
  {
   "cell_type": "code",
   "execution_count": null,
   "id": "c1bfaf98",
   "metadata": {},
   "outputs": [],
   "source": []
  },
  {
   "cell_type": "code",
   "execution_count": 53,
   "id": "8d2d6486",
   "metadata": {},
   "outputs": [
    {
     "data": {
      "text/plain": [
       "[{'book_id': 17261561,\n",
       "  'isbn': '',\n",
       "  'authors': [{'author_id': '997129', 'role': ''}],\n",
       "  'title': 'Melting Point (Seattle Steam, #2.5)',\n",
       "  'average_rating': '3.34'}]"
      ]
     },
     "execution_count": 53,
     "metadata": {},
     "output_type": "execute_result"
    }
   ],
   "source": [
    "# Recommend by svd_1000th model\n",
    "\n",
    "user_id = '8842281e1d1347389f2ab93d60773d4d'\n",
    "title = None\n",
    "model = svd_1000th\n",
    "genre = 'romance'\n",
    "thresh = 4.0\n",
    "\n",
    "generate_recommendation(user_id, title, model, genre, thresh)\n"
   ]
  },
  {
   "cell_type": "code",
   "execution_count": 10,
   "id": "eaa789cd",
   "metadata": {},
   "outputs": [
    {
     "data": {
      "text/plain": [
       "[{'book_id': 89378,\n",
       "  'isbn': '0590417010',\n",
       "  'authors': [{'author_id': '5411', 'role': ''}],\n",
       "  'title': 'Dog Heaven',\n",
       "  'average_rating': '4.43'}]"
      ]
     },
     "execution_count": 10,
     "metadata": {},
     "output_type": "execute_result"
    }
   ],
   "source": [
    "user_id = '8842281e1d1347389f2ab93d60773d4d'\n",
    "title = 'Dog Heaven'\n",
    "model = svd_1000th\n",
    "genre = None\n",
    "thresh = 4.0\n",
    "\n",
    "generate_recommendation(user_id, title, model, genre, thresh)\n"
   ]
  },
  {
   "cell_type": "code",
   "execution_count": null,
   "id": "2de2933e",
   "metadata": {},
   "outputs": [],
   "source": []
  },
  {
   "cell_type": "code",
   "execution_count": 13,
   "id": "132de64c",
   "metadata": {},
   "outputs": [
    {
     "data": {
      "text/plain": [
       "[{'book_id': 29396562,\n",
       "  'isbn': '1513708929',\n",
       "  'authors': [{'author_id': '14874116', 'role': ''}],\n",
       "  'title': 'The Beloved (Faerie Tale, #2)',\n",
       "  'average_rating': '4.43'}]"
      ]
     },
     "execution_count": 13,
     "metadata": {},
     "output_type": "execute_result"
    }
   ],
   "source": [
    "# Recommend by svd_whole model\n",
    "\n",
    "user_id = '8842281e1d1347389f2ab93d60773d4d'\n",
    "title = None\n",
    "model = svd_whole\n",
    "genre = 'romance'\n",
    "thresh = 4.0\n",
    "\n",
    "generate_recommendation(user_id, title, model, genre, thresh)\n"
   ]
  },
  {
   "cell_type": "code",
   "execution_count": 12,
   "id": "a5f7f0cb",
   "metadata": {},
   "outputs": [
    {
     "data": {
      "text/plain": [
       "[{'book_id': 89378,\n",
       "  'isbn': '0590417010',\n",
       "  'authors': [{'author_id': '5411', 'role': ''}],\n",
       "  'title': 'Dog Heaven',\n",
       "  'average_rating': '4.43'}]"
      ]
     },
     "execution_count": 12,
     "metadata": {},
     "output_type": "execute_result"
    }
   ],
   "source": [
    "user_id = '8842281e1d1347389f2ab93d60773d4d'\n",
    "title = 'Dog Heaven'\n",
    "model = svd_whole\n",
    "genre = None\n",
    "thresh = 4.0\n",
    "\n",
    "generate_recommendation(user_id, title, model, genre, thresh)"
   ]
  },
  {
   "cell_type": "code",
   "execution_count": null,
   "id": "84471b8f",
   "metadata": {},
   "outputs": [],
   "source": []
  },
  {
   "cell_type": "code",
   "execution_count": null,
   "id": "1c962e04",
   "metadata": {},
   "outputs": [],
   "source": []
  },
  {
   "cell_type": "code",
   "execution_count": null,
   "id": "02796848",
   "metadata": {},
   "outputs": [],
   "source": [
    "# Works cited:\n",
    "# Mengting Wan, Julian McAuley, \"Item Recommendation on Monotonic Behavior Chains\", in RecSys'18. [bibtex]\n",
    "# Mengting Wan, Rishabh Misra, Ndapa Nakashole, Julian McAuley, \"Fine-Grained Spoiler Detection from Large-Scale Review Corpora\", in ACL'19. [bibtex]\n",
    "# Amol Mavuduru, \"How you can build simple recommender systems with Surprise\"\n",
    "# Poorna Srinivas Gutta, \"Solution to HW1\"\n",
    "# Harshil Bharatkumar Darji, \"Solution to HW1\"\n"
   ]
  },
  {
   "cell_type": "code",
   "execution_count": null,
   "id": "bb44bdae",
   "metadata": {},
   "outputs": [],
   "source": []
  }
 ],
 "metadata": {
  "kernelspec": {
   "display_name": "Python 3 (ipykernel)",
   "language": "python",
   "name": "python3"
  },
  "language_info": {
   "codemirror_mode": {
    "name": "ipython",
    "version": 3
   },
   "file_extension": ".py",
   "mimetype": "text/x-python",
   "name": "python",
   "nbconvert_exporter": "python",
   "pygments_lexer": "ipython3",
   "version": "3.8.8"
  }
 },
 "nbformat": 4,
 "nbformat_minor": 5
}
